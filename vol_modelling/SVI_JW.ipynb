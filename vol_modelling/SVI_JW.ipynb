{
 "cells": [
  {
   "cell_type": "code",
   "execution_count": 1,
   "metadata": {},
   "outputs": [],
   "source": [
    "import os, sys\n",
    "sys.path.append(os.environ['WORK_DIR'])\n",
    "import matplotlib.pyplot as plt \n",
    "plt.style.use('ggplot')\n",
    "import math\n",
    "import numpy as np\n",
    "import pandas as pd\n",
    "from scipy.stats import norm\n",
    "from scipy.interpolate import interp1d\n",
    "from trade.helpers.helper import optionPV_helper \n",
    "from scipy.optimize import minimize \n",
    "from py_vollib.black_scholes_merton import black_scholes_merton\n",
    "from trade.helpers.helper import time_distance_helper\n",
    "import warnings\n",
    "from pprint import pprint\n",
    "import ipywidgets as widgets \n",
    "%matplotlib inline\n",
    "%load_ext autoreload\n",
    "%autoreload 2"
   ]
  },
  {
   "cell_type": "code",
   "execution_count": 2,
   "metadata": {},
   "outputs": [],
   "source": [
    "def TotalVarSVIJW(S0, K, t, v, psi, p, c, v_tilde): \n",
    "    k = np.log(K / S0)\n",
    "    w= v * t\n",
    "    b = np.sqrt(w) / 2 * (c + p)\n",
    "    rho = 1 - p * np.sqrt(w) / b\n",
    "    #beta has to be in [­1, +1]\n",
    "    beta = rho - 2 * psi * np.sqrt(w) / b\n",
    "    alpha = np.sign(beta) * np.sqrt(1 / beta**2 - 1)\n",
    "    m = (v - v_tilde) * t / (b * (- rho + np.sign(alpha) * np.sqrt(1 + alpha**2) - alpha * np.sqrt(1 - rho**2)))\n",
    "    sigma = alpha * m\n",
    "    a = v_tilde * t - b * sigma * np.sqrt(1 - rho**2)\n",
    "    if (m == 0): sigma = (w - a) / b\n",
    "    return (a + b * (rho * (k - m) + np.sqrt((k - m)**2 + sigma**2))) ## Total Variance. Result should be transformed as so: sqrt(result/t)"
   ]
  },
  {
   "cell_type": "markdown",
   "metadata": {},
   "source": [
    "## Estimation of Params"
   ]
  },
  {
   "cell_type": "code",
   "execution_count": 6,
   "metadata": {},
   "outputs": [
    {
     "data": {
      "text/plain": [
       "[0.09, -0.1, 0.4, 1.0, 0.0324]"
      ]
     },
     "execution_count": 6,
     "metadata": {},
     "output_type": "execute_result"
    }
   ],
   "source": [
    "Strikes = range(49, 202)\n",
    "S0 = 100\n",
    "t = .10\n",
    "v = 0.3**2 \n",
    "psi =-0.10\n",
    "p = .40\n",
    "c = 1.\n",
    "v_tilde = 0.18**2\n",
    "IV_ = [(TotalVarSVIJW(S0, K, t, v, psi, p, c, v_tilde) / t)**0.5 for K in Strikes]\n",
    "params = [v, psi, p, c, v_tilde] \n",
    "params"
   ]
  },
  {
   "cell_type": "markdown",
   "metadata": {},
   "source": [
    "### Estimation of V\n"
   ]
  },
  {
   "cell_type": "code",
   "execution_count": 7,
   "metadata": {},
   "outputs": [
    {
     "name": "stdout",
     "output_type": "stream",
     "text": [
      "Real v: 0.09\n",
      "Estimated v: 0.09\n"
     ]
    }
   ],
   "source": [
    "KATM = 100.0\n",
    "IV_ATM = (TotalVarSVIJW(S0, KATM, t, v, psi, p, c, v_tilde)/t)**0.5 \n",
    "v_est = IV_ATM**2 #v from ATM vol\n",
    "print(\"Real v: \" + str(np.round(v, 3))) \n",
    "print(\"Estimated v: \" + str(np.round(v_est, 3)))"
   ]
  },
  {
   "cell_type": "markdown",
   "metadata": {},
   "source": [
    "## SVI Caliberation to Market Prices"
   ]
  },
  {
   "cell_type": "code",
   "execution_count": 8,
   "metadata": {},
   "outputs": [],
   "source": [
    "def CallPrice(S, sigma, K, T, r):\n",
    "    d1 = (math.log(S / K) + (r + .5 * sigma**2) * T) / (sigma * T**.5) \n",
    "    d2 = d1 - sigma * T**0.5\n",
    "    n1 = norm.cdf(d1)\n",
    "    n2 = norm.cdf(d2)\n",
    "    DF = math.exp(-r * T)\n",
    "    price=S * n1 - K * DF * n2\n",
    "    return price\n",
    "\n",
    "r = 0.05 #Risk­Free Interest Rate\n",
    "S0 = 100 #Asset Price\n",
    "IV_ = [.36,.28, .26, .245, .24, .242, 0.248] #Black­Scholes Implied Vol \n",
    "K = [90, 95, 97.5, 100, 102.5, 105, 110] #Strike Prices\n",
    "T = [.25] * 7 #Maturity\n",
    "Price = [CallPrice(S0, IV_[i], K[i], T[i], r) for i in range(len(T))]"
   ]
  },
  {
   "cell_type": "markdown",
   "metadata": {},
   "source": [
    "# Minimizing Model"
   ]
  },
  {
   "cell_type": "code",
   "execution_count": 9,
   "metadata": {},
   "outputs": [],
   "source": [
    "def MSE_Price_SVIJW(params):\n",
    "    MSE_Price = 0\n",
    "    for i in range(len(T)):\n",
    "        MSE_Price = MSE_Price + (CallPrice(S0, (TotalVarSVIJW(S0, K[i], T[i], *params)/T[i])**.5, K[i], T[i], r) - Price[i])**2 \n",
    "    return MSE_Price / len(T)\n",
    "\n",
    "\n",
    "def MSE_IV_SVIJW(params): \n",
    "    MSE_IV = 0\n",
    "    for i in range(len(T)):\n",
    "        SVIJW_IV = (TotalVarSVIJW(S0, K[i], T[i], *params) / T[i])**.5 \n",
    "        MSE_IV = MSE_IV + (SVIJW_IV - IV_[i])**2\n",
    "    return MSE_IV / len(T)\n",
    "\n",
    "\n",
    "cons=(\n",
    "{'type': 'ineq', 'fun': lambda x: x[0] - 0.00001}, #v > 0 \n",
    "{'type': 'ineq', 'fun': lambda x: x[0] - x[4]}, #v >= v_tilde\n",
    "{'type': 'ineq', 'fun': lambda x: x[4] - 0.00001}, #v_tilde > 0 \n",
    "{'type': 'ineq', 'fun': lambda x: x[2]}, #p >= 0\n",
    "{'type': 'ineq', 'fun': lambda x: x[3]}, #c >= 0\n",
    ")"
   ]
  },
  {
   "cell_type": "code",
   "execution_count": 10,
   "metadata": {},
   "outputs": [
    {
     "data": {
      "text/plain": [
       "[0.060024999999999995, -0.20000000000000018, 10, 10, 0.0576]"
      ]
     },
     "execution_count": 10,
     "metadata": {},
     "output_type": "execute_result"
    }
   ],
   "source": [
    "IV = interp1d(K, IV_)\n",
    "minIV = min(IV_)\n",
    "n = len(IV_)\n",
    "t = T[0]\n",
    "params[0] = IV(100)**2 #v from ATM vol\n",
    "params[1]  = (IV(101) - IV(99))/2*100*t**0.5 # PSI is skew of the ATM. (101-99)/2 * 100 * sqrt(t)\n",
    "params[2], params[3] = 10, 10\n",
    "params[4] = minIV**2\n",
    "params #atm vol, atm skew, slope of left wing, slope of right, min vol "
   ]
  },
  {
   "cell_type": "code",
   "execution_count": 11,
   "metadata": {},
   "outputs": [
    {
     "data": {
      "text/plain": [
       "array([ 0.06072465, -0.17363453, 21.39207914,  0.8957227 ,  0.0575657 ])"
      ]
     },
     "execution_count": 11,
     "metadata": {},
     "output_type": "execute_result"
    }
   ],
   "source": [
    "#Minimisation MSE between Market and Model Prices\n",
    "warnings.filterwarnings('ignore')\n",
    "result = minimize(MSE_Price_SVIJW, params, constraints = cons, method = 'SLSQP',tol=1e-10) \n",
    "new_params = result['x']\n",
    "new_params"
   ]
  },
  {
   "cell_type": "code",
   "execution_count": 12,
   "metadata": {},
   "outputs": [
    {
     "data": {
      "image/png": "[encoded data removed]",
      "text/plain": [
       "<Figure size 3000x1500 with 1 Axes>"
      ]
     },
     "metadata": {},
     "output_type": "display_data"
    }
   ],
   "source": [
    "S0 = 100\n",
    "r = 0.05\n",
    "Kbis = range(90, 111)\n",
    "SVIJW_IV = [(TotalVarSVIJW(S0, Kbis[i], T[0], *new_params)/t)**.5 for i in range(len(Kbis))]\n",
    "fig, axs = plt.subplots(1,figsize = (30, 15))\n",
    "axs.scatter(K, IV_, label=\"Market\", s = 200) \n",
    "axs.plot(Kbis, SVIJW_IV, label=\"Model: SVI-JW\") \n",
    "axs.set_title('Implied Volatility Curve', fontsize = 30,) \n",
    "axs.set_xlabel('Strike Price', fontsize = 30) \n",
    "axs.set_ylabel('Implied Volatility', fontsize = 30) \n",
    "axs.tick_params(axis='x', labelsize = 20) \n",
    "axs.tick_params(axis='y', labelsize = 20) \n",
    "axs.legend(fontsize=30)\n",
    "plt.show()"
   ]
  },
  {
   "cell_type": "markdown",
   "metadata": {},
   "source": [
    "# ***Standardize for Quant Tools***"
   ]
  },
  {
   "cell_type": "code",
   "execution_count": 3,
   "metadata": {},
   "outputs": [
    {
     "data": {
      "text/plain": [
       "array([  3,  10,  17,  24,  31,  38,  52,  87, 115, 150, 178, 205, 269,\n",
       "       325, 360, 451, 479, 632, 815, 843])"
      ]
     },
     "execution_count": 3,
     "metadata": {},
     "output_type": "execute_result"
    }
   ],
   "source": [
    "tick = 'NVDA'\n",
    "chain = pd.read_csv(f'/Users/chiemelienwanisobi/Documents/GitHub/stop-loss-script/BACKTEST/OptionBacktest/{tick}_Chain.csv')\n",
    "chain.DTE.unique()"
   ]
  },
  {
   "cell_type": "code",
   "execution_count": 4,
   "metadata": {},
   "outputs": [
    {
     "data": {
      "text/html": [
       "<div>\n",
       "<style scoped>\n",
       "    .dataframe tbody tr th:only-of-type {\n",
       "        vertical-align: middle;\n",
       "    }\n",
       "\n",
       "    .dataframe tbody tr th {\n",
       "        vertical-align: top;\n",
       "    }\n",
       "\n",
       "    .dataframe thead th {\n",
       "        text-align: right;\n",
       "    }\n",
       "</style>\n",
       "<table border=\"1\" class=\"dataframe\">\n",
       "  <thead>\n",
       "    <tr style=\"text-align: right;\">\n",
       "      <th></th>\n",
       "      <th>expiration</th>\n",
       "      <th>DTE</th>\n",
       "      <th>strike</th>\n",
       "      <th>right</th>\n",
       "      <th>root</th>\n",
       "      <th>Spot</th>\n",
       "      <th>r</th>\n",
       "      <th>q</th>\n",
       "      <th>build_date</th>\n",
       "      <th>ticker</th>\n",
       "      <th>price</th>\n",
       "      <th>vol</th>\n",
       "      <th>moneyness</th>\n",
       "    </tr>\n",
       "  </thead>\n",
       "  <tbody>\n",
       "    <tr>\n",
       "      <th>3398</th>\n",
       "      <td>2027-01-15</td>\n",
       "      <td>843</td>\n",
       "      <td>5.0</td>\n",
       "      <td>P</td>\n",
       "      <td>True</td>\n",
       "      <td>120.870003</td>\n",
       "      <td>0.04495</td>\n",
       "      <td>0.000232</td>\n",
       "      <td>2024-09-24</td>\n",
       "      <td>NVDA</td>\n",
       "      <td>0.085</td>\n",
       "      <td>0.921540</td>\n",
       "      <td>0.041367</td>\n",
       "    </tr>\n",
       "    <tr>\n",
       "      <th>3400</th>\n",
       "      <td>2027-01-15</td>\n",
       "      <td>843</td>\n",
       "      <td>15.0</td>\n",
       "      <td>P</td>\n",
       "      <td>True</td>\n",
       "      <td>120.870003</td>\n",
       "      <td>0.04495</td>\n",
       "      <td>0.000232</td>\n",
       "      <td>2024-09-24</td>\n",
       "      <td>NVDA</td>\n",
       "      <td>0.220</td>\n",
       "      <td>0.675341</td>\n",
       "      <td>0.124100</td>\n",
       "    </tr>\n",
       "    <tr>\n",
       "      <th>3401</th>\n",
       "      <td>2027-01-15</td>\n",
       "      <td>843</td>\n",
       "      <td>20.0</td>\n",
       "      <td>P</td>\n",
       "      <td>True</td>\n",
       "      <td>120.870003</td>\n",
       "      <td>0.04495</td>\n",
       "      <td>0.000232</td>\n",
       "      <td>2024-09-24</td>\n",
       "      <td>NVDA</td>\n",
       "      <td>0.435</td>\n",
       "      <td>0.650356</td>\n",
       "      <td>0.165467</td>\n",
       "    </tr>\n",
       "    <tr>\n",
       "      <th>3402</th>\n",
       "      <td>2027-01-15</td>\n",
       "      <td>843</td>\n",
       "      <td>25.0</td>\n",
       "      <td>P</td>\n",
       "      <td>True</td>\n",
       "      <td>120.870003</td>\n",
       "      <td>0.04495</td>\n",
       "      <td>0.000232</td>\n",
       "      <td>2024-09-24</td>\n",
       "      <td>NVDA</td>\n",
       "      <td>0.705</td>\n",
       "      <td>0.625131</td>\n",
       "      <td>0.206834</td>\n",
       "    </tr>\n",
       "    <tr>\n",
       "      <th>3403</th>\n",
       "      <td>2027-01-15</td>\n",
       "      <td>843</td>\n",
       "      <td>30.0</td>\n",
       "      <td>P</td>\n",
       "      <td>True</td>\n",
       "      <td>120.870003</td>\n",
       "      <td>0.04495</td>\n",
       "      <td>0.000232</td>\n",
       "      <td>2024-09-24</td>\n",
       "      <td>NVDA</td>\n",
       "      <td>1.035</td>\n",
       "      <td>0.602277</td>\n",
       "      <td>0.248201</td>\n",
       "    </tr>\n",
       "    <tr>\n",
       "      <th>3405</th>\n",
       "      <td>2027-01-15</td>\n",
       "      <td>843</td>\n",
       "      <td>50.0</td>\n",
       "      <td>P</td>\n",
       "      <td>True</td>\n",
       "      <td>120.870003</td>\n",
       "      <td>0.04495</td>\n",
       "      <td>0.000232</td>\n",
       "      <td>2024-09-24</td>\n",
       "      <td>NVDA</td>\n",
       "      <td>3.525</td>\n",
       "      <td>0.555905</td>\n",
       "      <td>0.413668</td>\n",
       "    </tr>\n",
       "    <tr>\n",
       "      <th>3408</th>\n",
       "      <td>2027-01-15</td>\n",
       "      <td>843</td>\n",
       "      <td>60.0</td>\n",
       "      <td>P</td>\n",
       "      <td>True</td>\n",
       "      <td>120.870003</td>\n",
       "      <td>0.04495</td>\n",
       "      <td>0.000232</td>\n",
       "      <td>2024-09-24</td>\n",
       "      <td>NVDA</td>\n",
       "      <td>5.675</td>\n",
       "      <td>0.547924</td>\n",
       "      <td>0.496401</td>\n",
       "    </tr>\n",
       "    <tr>\n",
       "      <th>3410</th>\n",
       "      <td>2027-01-15</td>\n",
       "      <td>843</td>\n",
       "      <td>65.0</td>\n",
       "      <td>P</td>\n",
       "      <td>True</td>\n",
       "      <td>120.870003</td>\n",
       "      <td>0.04495</td>\n",
       "      <td>0.000232</td>\n",
       "      <td>2024-09-24</td>\n",
       "      <td>NVDA</td>\n",
       "      <td>6.925</td>\n",
       "      <td>0.543522</td>\n",
       "      <td>0.537768</td>\n",
       "    </tr>\n",
       "    <tr>\n",
       "      <th>3412</th>\n",
       "      <td>2027-01-15</td>\n",
       "      <td>843</td>\n",
       "      <td>70.0</td>\n",
       "      <td>P</td>\n",
       "      <td>True</td>\n",
       "      <td>120.870003</td>\n",
       "      <td>0.04495</td>\n",
       "      <td>0.000232</td>\n",
       "      <td>2024-09-24</td>\n",
       "      <td>NVDA</td>\n",
       "      <td>8.300</td>\n",
       "      <td>0.539334</td>\n",
       "      <td>0.579135</td>\n",
       "    </tr>\n",
       "    <tr>\n",
       "      <th>3414</th>\n",
       "      <td>2027-01-15</td>\n",
       "      <td>843</td>\n",
       "      <td>75.0</td>\n",
       "      <td>P</td>\n",
       "      <td>True</td>\n",
       "      <td>120.870003</td>\n",
       "      <td>0.04495</td>\n",
       "      <td>0.000232</td>\n",
       "      <td>2024-09-24</td>\n",
       "      <td>NVDA</td>\n",
       "      <td>9.925</td>\n",
       "      <td>0.538596</td>\n",
       "      <td>0.620501</td>\n",
       "    </tr>\n",
       "    <tr>\n",
       "      <th>3416</th>\n",
       "      <td>2027-01-15</td>\n",
       "      <td>843</td>\n",
       "      <td>80.0</td>\n",
       "      <td>P</td>\n",
       "      <td>True</td>\n",
       "      <td>120.870003</td>\n",
       "      <td>0.04495</td>\n",
       "      <td>0.000232</td>\n",
       "      <td>2024-09-24</td>\n",
       "      <td>NVDA</td>\n",
       "      <td>11.575</td>\n",
       "      <td>0.535284</td>\n",
       "      <td>0.661868</td>\n",
       "    </tr>\n",
       "    <tr>\n",
       "      <th>3418</th>\n",
       "      <td>2027-01-15</td>\n",
       "      <td>843</td>\n",
       "      <td>85.0</td>\n",
       "      <td>P</td>\n",
       "      <td>True</td>\n",
       "      <td>120.870003</td>\n",
       "      <td>0.04495</td>\n",
       "      <td>0.000232</td>\n",
       "      <td>2024-09-24</td>\n",
       "      <td>NVDA</td>\n",
       "      <td>13.375</td>\n",
       "      <td>0.532796</td>\n",
       "      <td>0.703235</td>\n",
       "    </tr>\n",
       "    <tr>\n",
       "      <th>3420</th>\n",
       "      <td>2027-01-15</td>\n",
       "      <td>843</td>\n",
       "      <td>90.0</td>\n",
       "      <td>P</td>\n",
       "      <td>True</td>\n",
       "      <td>120.870003</td>\n",
       "      <td>0.04495</td>\n",
       "      <td>0.000232</td>\n",
       "      <td>2024-09-24</td>\n",
       "      <td>NVDA</td>\n",
       "      <td>15.350</td>\n",
       "      <td>0.531572</td>\n",
       "      <td>0.744602</td>\n",
       "    </tr>\n",
       "    <tr>\n",
       "      <th>3422</th>\n",
       "      <td>2027-01-15</td>\n",
       "      <td>843</td>\n",
       "      <td>95.0</td>\n",
       "      <td>P</td>\n",
       "      <td>True</td>\n",
       "      <td>120.870003</td>\n",
       "      <td>0.04495</td>\n",
       "      <td>0.000232</td>\n",
       "      <td>2024-09-24</td>\n",
       "      <td>NVDA</td>\n",
       "      <td>17.550</td>\n",
       "      <td>0.532452</td>\n",
       "      <td>0.785968</td>\n",
       "    </tr>\n",
       "    <tr>\n",
       "      <th>3424</th>\n",
       "      <td>2027-01-15</td>\n",
       "      <td>843</td>\n",
       "      <td>100.0</td>\n",
       "      <td>P</td>\n",
       "      <td>True</td>\n",
       "      <td>120.870003</td>\n",
       "      <td>0.04495</td>\n",
       "      <td>0.000232</td>\n",
       "      <td>2024-09-24</td>\n",
       "      <td>NVDA</td>\n",
       "      <td>19.725</td>\n",
       "      <td>0.530642</td>\n",
       "      <td>0.827335</td>\n",
       "    </tr>\n",
       "    <tr>\n",
       "      <th>3427</th>\n",
       "      <td>2027-01-15</td>\n",
       "      <td>843</td>\n",
       "      <td>110.0</td>\n",
       "      <td>P</td>\n",
       "      <td>True</td>\n",
       "      <td>120.870003</td>\n",
       "      <td>0.04495</td>\n",
       "      <td>0.000232</td>\n",
       "      <td>2024-09-24</td>\n",
       "      <td>NVDA</td>\n",
       "      <td>24.600</td>\n",
       "      <td>0.530789</td>\n",
       "      <td>0.910069</td>\n",
       "    </tr>\n",
       "    <tr>\n",
       "      <th>3429</th>\n",
       "      <td>2027-01-15</td>\n",
       "      <td>843</td>\n",
       "      <td>115.0</td>\n",
       "      <td>P</td>\n",
       "      <td>True</td>\n",
       "      <td>120.870003</td>\n",
       "      <td>0.04495</td>\n",
       "      <td>0.000232</td>\n",
       "      <td>2024-09-24</td>\n",
       "      <td>NVDA</td>\n",
       "      <td>27.275</td>\n",
       "      <td>0.532233</td>\n",
       "      <td>0.951435</td>\n",
       "    </tr>\n",
       "    <tr>\n",
       "      <th>3431</th>\n",
       "      <td>2027-01-15</td>\n",
       "      <td>843</td>\n",
       "      <td>120.0</td>\n",
       "      <td>P</td>\n",
       "      <td>True</td>\n",
       "      <td>120.870003</td>\n",
       "      <td>0.04495</td>\n",
       "      <td>0.000232</td>\n",
       "      <td>2024-09-24</td>\n",
       "      <td>NVDA</td>\n",
       "      <td>30.125</td>\n",
       "      <td>0.534860</td>\n",
       "      <td>0.992802</td>\n",
       "    </tr>\n",
       "    <tr>\n",
       "      <th>3433</th>\n",
       "      <td>2027-01-15</td>\n",
       "      <td>843</td>\n",
       "      <td>125.0</td>\n",
       "      <td>P</td>\n",
       "      <td>True</td>\n",
       "      <td>120.870003</td>\n",
       "      <td>0.04495</td>\n",
       "      <td>0.000232</td>\n",
       "      <td>2024-09-24</td>\n",
       "      <td>NVDA</td>\n",
       "      <td>33.400</td>\n",
       "      <td>0.542535</td>\n",
       "      <td>1.034169</td>\n",
       "    </tr>\n",
       "    <tr>\n",
       "      <th>3435</th>\n",
       "      <td>2027-01-15</td>\n",
       "      <td>843</td>\n",
       "      <td>130.0</td>\n",
       "      <td>P</td>\n",
       "      <td>True</td>\n",
       "      <td>120.870003</td>\n",
       "      <td>0.04495</td>\n",
       "      <td>0.000232</td>\n",
       "      <td>2024-09-24</td>\n",
       "      <td>NVDA</td>\n",
       "      <td>36.025</td>\n",
       "      <td>0.538793</td>\n",
       "      <td>1.075536</td>\n",
       "    </tr>\n",
       "    <tr>\n",
       "      <th>3438</th>\n",
       "      <td>2027-01-15</td>\n",
       "      <td>843</td>\n",
       "      <td>140.0</td>\n",
       "      <td>P</td>\n",
       "      <td>True</td>\n",
       "      <td>120.870003</td>\n",
       "      <td>0.04495</td>\n",
       "      <td>0.000232</td>\n",
       "      <td>2024-09-24</td>\n",
       "      <td>NVDA</td>\n",
       "      <td>41.875</td>\n",
       "      <td>0.537091</td>\n",
       "      <td>1.158269</td>\n",
       "    </tr>\n",
       "    <tr>\n",
       "      <th>3441</th>\n",
       "      <td>2027-01-15</td>\n",
       "      <td>843</td>\n",
       "      <td>150.0</td>\n",
       "      <td>P</td>\n",
       "      <td>True</td>\n",
       "      <td>120.870003</td>\n",
       "      <td>0.04495</td>\n",
       "      <td>0.000232</td>\n",
       "      <td>2024-09-24</td>\n",
       "      <td>NVDA</td>\n",
       "      <td>48.600</td>\n",
       "      <td>0.543880</td>\n",
       "      <td>1.241003</td>\n",
       "    </tr>\n",
       "    <tr>\n",
       "      <th>3445</th>\n",
       "      <td>2027-01-15</td>\n",
       "      <td>843</td>\n",
       "      <td>165.0</td>\n",
       "      <td>P</td>\n",
       "      <td>True</td>\n",
       "      <td>120.870003</td>\n",
       "      <td>0.04495</td>\n",
       "      <td>0.000232</td>\n",
       "      <td>2024-09-24</td>\n",
       "      <td>NVDA</td>\n",
       "      <td>59.350</td>\n",
       "      <td>0.556378</td>\n",
       "      <td>1.365103</td>\n",
       "    </tr>\n",
       "    <tr>\n",
       "      <th>3454</th>\n",
       "      <td>2027-01-15</td>\n",
       "      <td>843</td>\n",
       "      <td>230.0</td>\n",
       "      <td>P</td>\n",
       "      <td>True</td>\n",
       "      <td>120.870003</td>\n",
       "      <td>0.04495</td>\n",
       "      <td>0.000232</td>\n",
       "      <td>2024-09-24</td>\n",
       "      <td>NVDA</td>\n",
       "      <td>109.925</td>\n",
       "      <td>0.601261</td>\n",
       "      <td>1.902871</td>\n",
       "    </tr>\n",
       "  </tbody>\n",
       "</table>\n",
       "</div>"
      ],
      "text/plain": [
       "      expiration  DTE  strike right  root        Spot        r         q  \\\n",
       "3398  2027-01-15  843     5.0     P  True  120.870003  0.04495  0.000232   \n",
       "3400  2027-01-15  843    15.0     P  True  120.870003  0.04495  0.000232   \n",
       "3401  2027-01-15  843    20.0     P  True  120.870003  0.04495  0.000232   \n",
       "3402  2027-01-15  843    25.0     P  True  120.870003  0.04495  0.000232   \n",
       "3403  2027-01-15  843    30.0     P  True  120.870003  0.04495  0.000232   \n",
       "3405  2027-01-15  843    50.0     P  True  120.870003  0.04495  0.000232   \n",
       "3408  2027-01-15  843    60.0     P  True  120.870003  0.04495  0.000232   \n",
       "3410  2027-01-15  843    65.0     P  True  120.870003  0.04495  0.000232   \n",
       "3412  2027-01-15  843    70.0     P  True  120.870003  0.04495  0.000232   \n",
       "3414  2027-01-15  843    75.0     P  True  120.870003  0.04495  0.000232   \n",
       "3416  2027-01-15  843    80.0     P  True  120.870003  0.04495  0.000232   \n",
       "3418  2027-01-15  843    85.0     P  True  120.870003  0.04495  0.000232   \n",
       "3420  2027-01-15  843    90.0     P  True  120.870003  0.04495  0.000232   \n",
       "3422  2027-01-15  843    95.0     P  True  120.870003  0.04495  0.000232   \n",
       "3424  2027-01-15  843   100.0     P  True  120.870003  0.04495  0.000232   \n",
       "3427  2027-01-15  843   110.0     P  True  120.870003  0.04495  0.000232   \n",
       "3429  2027-01-15  843   115.0     P  True  120.870003  0.04495  0.000232   \n",
       "3431  2027-01-15  843   120.0     P  True  120.870003  0.04495  0.000232   \n",
       "3433  2027-01-15  843   125.0     P  True  120.870003  0.04495  0.000232   \n",
       "3435  2027-01-15  843   130.0     P  True  120.870003  0.04495  0.000232   \n",
       "3438  2027-01-15  843   140.0     P  True  120.870003  0.04495  0.000232   \n",
       "3441  2027-01-15  843   150.0     P  True  120.870003  0.04495  0.000232   \n",
       "3445  2027-01-15  843   165.0     P  True  120.870003  0.04495  0.000232   \n",
       "3454  2027-01-15  843   230.0     P  True  120.870003  0.04495  0.000232   \n",
       "\n",
       "      build_date ticker    price       vol  moneyness  \n",
       "3398  2024-09-24   NVDA    0.085  0.921540   0.041367  \n",
       "3400  2024-09-24   NVDA    0.220  0.675341   0.124100  \n",
       "3401  2024-09-24   NVDA    0.435  0.650356   0.165467  \n",
       "3402  2024-09-24   NVDA    0.705  0.625131   0.206834  \n",
       "3403  2024-09-24   NVDA    1.035  0.602277   0.248201  \n",
       "3405  2024-09-24   NVDA    3.525  0.555905   0.413668  \n",
       "3408  2024-09-24   NVDA    5.675  0.547924   0.496401  \n",
       "3410  2024-09-24   NVDA    6.925  0.543522   0.537768  \n",
       "3412  2024-09-24   NVDA    8.300  0.539334   0.579135  \n",
       "3414  2024-09-24   NVDA    9.925  0.538596   0.620501  \n",
       "3416  2024-09-24   NVDA   11.575  0.535284   0.661868  \n",
       "3418  2024-09-24   NVDA   13.375  0.532796   0.703235  \n",
       "3420  2024-09-24   NVDA   15.350  0.531572   0.744602  \n",
       "3422  2024-09-24   NVDA   17.550  0.532452   0.785968  \n",
       "3424  2024-09-24   NVDA   19.725  0.530642   0.827335  \n",
       "3427  2024-09-24   NVDA   24.600  0.530789   0.910069  \n",
       "3429  2024-09-24   NVDA   27.275  0.532233   0.951435  \n",
       "3431  2024-09-24   NVDA   30.125  0.534860   0.992802  \n",
       "3433  2024-09-24   NVDA   33.400  0.542535   1.034169  \n",
       "3435  2024-09-24   NVDA   36.025  0.538793   1.075536  \n",
       "3438  2024-09-24   NVDA   41.875  0.537091   1.158269  \n",
       "3441  2024-09-24   NVDA   48.600  0.543880   1.241003  \n",
       "3445  2024-09-24   NVDA   59.350  0.556378   1.365103  \n",
       "3454  2024-09-24   NVDA  109.925  0.601261   1.902871  "
      ]
     },
     "execution_count": 4,
     "metadata": {},
     "output_type": "execute_result"
    }
   ],
   "source": [
    "chain = pd.read_csv(f'/Users/chiemelienwanisobi/Documents/GitHub/stop-loss-script/BACKTEST/OptionBacktest/{tick}_Chain.csv')\n",
    "# (chain['right'] == right) &\n",
    "right, price_date, dte = 'P', '2024-09-24', 843\n",
    "chain = chain[ (chain['DTE'] == dte) & (chain['right'] == right) & (chain['vol'] > 0)]\n",
    "vol = chain['vol'].values\n",
    "strike = chain['strike'].values\n",
    "price = chain['price'].values\n",
    "spot = chain['Spot'].values[0]\n",
    "r = chain['r'].values[0]\n",
    "q = chain['q'].values[0]\n",
    "T = [chain['DTE'].values[0]/365]* len(strike)\n",
    "expiration = str(chain['expiration'].values[0])\n",
    "expiration\n",
    "chain"
   ]
  },
  {
   "cell_type": "markdown",
   "metadata": {},
   "source": [
    "## Volatility Curve with SVI Parameterization"
   ]
  },
  {
   "cell_type": "code",
   "execution_count": 5,
   "metadata": {},
   "outputs": [
    {
     "data": {
      "text/plain": [
       "(2.3095890410958906,\n",
       " 2.3095890410958906,\n",
       " 120.87000274658205,\n",
       " 120.87000274658205)"
      ]
     },
     "execution_count": 5,
     "metadata": {},
     "output_type": "execute_result"
    }
   ],
   "source": [
    "\n",
    "def VolSVI(S0, K, T, a, b, rho, sigma, m):\n",
    "    k = np.log(K / S0)\n",
    "    v = np.sqrt((a + b * (rho * (k - m) + np.sqrt((k - m)**2 + sigma**2))) / T)\n",
    "    return v\n",
    "\n",
    "\n",
    "# Black Scholes Call Price\n",
    "def CallPrice(S, sigma, K, T, r, q):\n",
    "    d1 = (math.log(S / K) + (r + .5 * sigma**2) * T) / (sigma * T**.5) \n",
    "    d2 = d1 - sigma * T**0.5\n",
    "    n1 = norm.cdf(d1)\n",
    "    n2 = norm.cdf(d2)\n",
    "    DF = math.exp(-r * T)\n",
    "    y = math.exp(-q * T)\n",
    "    price = S * y * n1 - K * DF * n2\n",
    "    return price\n",
    "\n",
    "def PutPrice(S, sigma, K, T, r, q):\n",
    "    d1 = (math.log(S / K) + (r + .5 * sigma**2) * T) / (sigma * T**.5) \n",
    "    d2 = d1 - sigma * T**0.5\n",
    "    n1 = norm.cdf(-d1)\n",
    "    n2 = norm.cdf(-d2)\n",
    "    DF = math.exp(-r * T)\n",
    "    y = math.exp(-q * T)\n",
    "    price = K * DF * n2 - S * y * n1 \n",
    "    return price\n",
    "\n",
    "\n",
    "\n",
    "IV_ = chain['vol'].values.tolist()\n",
    "K = chain['strike'].values.tolist()\n",
    "chain_price = chain['price'].values.tolist()\n",
    "S0 = chain['Spot'].values[0]\n",
    "r = chain['r'].values[0]\n",
    "q = chain['q'].values[0]\n",
    "t = T[0]\n",
    "T = [chain['DTE'].values[0]/365]* len(strike)\n",
    "if right == 'C':\n",
    "    Price = [CallPrice(S0, IV_[i], K[i], T[i], r, q) for i in range(len(T))] ## List of prices for each strike price\n",
    "else:\n",
    "    Price = [PutPrice(S0, IV_[i], K[i], T[i], r, q) for i in range(len(T))]\n",
    "# Price = [CallPrice(S0, IV[i], K[i], T[i], r, q) for i in range(len(T))] ## List of prices for each strike price\n",
    "bsm_price = [black_scholes_merton('c', S0, K[i], T[i], r, IV_[i], q) for i in range(len(T))] ## List of prices for each strike price\n",
    "Price = Price\n",
    "# Price\n",
    "T[0], t,  S0, spot"
   ]
  },
  {
   "cell_type": "markdown",
   "metadata": {},
   "source": [
    "## Mean-Squared Error Minimisation Btwn Market & Model Prices\n"
   ]
  },
  {
   "cell_type": "code",
   "execution_count": 6,
   "metadata": {},
   "outputs": [],
   "source": [
    "\n",
    "\n",
    "def MSE_Price_SVIJW(params):\n",
    "    MSE_Price = 0\n",
    "    for i in range(len(T)):\n",
    "        if right == 'C':\n",
    "            ## With SJW minimization, we recieve TotalVarSVIJW\n",
    "            ## To transform and use in the CallPrice/PutPrice function, we need to divide by T and take the square root\n",
    "            MSE_Price = MSE_Price + (CallPrice(S0, (TotalVarSVIJW(S0, K[i], T[i], *params)/T[i])**.5, K[i], T[i], r, q) - Price[i])**2\n",
    "\n",
    "        else:\n",
    "            MSE_Price = MSE_Price + (PutPrice(S0, (TotalVarSVIJW(S0, K[i], T[i], *params)/T[i])**.5, K[i], T[i], r, q) - Price[i])**2\n",
    "            \n",
    "    return MSE_Price / len(T)\n",
    "\n",
    "\n",
    "def MSE_IV_SVIJW(params): \n",
    "    MSE_IV = 0\n",
    "    for i in range(len(T)):\n",
    "        svijw_iv = (TotalVarSVIJW(S0, K[i], T[i], *params) / T[i])**.5 \n",
    "        MSE_IV = MSE_IV + (svijw_iv - IV_[i])**2\n",
    "    return (MSE_IV / len(T))\n",
    "\n",
    "\n",
    "def MSE_Price_SVIJW(params, T, S0, K, r, q, Price, right):\n",
    "    \"\"\"\n",
    "    Calculate the mean squared error (MSE) for given parameters.\n",
    "    \n",
    "    Arguments:\n",
    "    - params: Parameters to be optimized.\n",
    "    - T: Array of time to maturities.\n",
    "    - S0: Spot price.\n",
    "    - K: Array of strike prices.\n",
    "    - r: Risk-free rate.\n",
    "    - q: Dividend yield.\n",
    "    - Price: Observed market prices.\n",
    "    - right: 'C' for call, 'P' for put.\n",
    "    \n",
    "    Returns:\n",
    "    - MSE_Price: Mean squared error between model and market prices.\n",
    "    \"\"\"\n",
    "    MSE_Price = 0\n",
    "    for i in range(len(T)):\n",
    "        total_variance = TotalVarSVIJW(S0, K[i], T[i], *params) / T[i]  # Compute total variance\n",
    "        implied_vol = total_variance**0.5  # Compute implied volatility\n",
    "        \n",
    "        if right == 'C':  # Call option\n",
    "            model_price = CallPrice(S0, implied_vol, K[i], T[i], r, q)\n",
    "        else:  # Put option\n",
    "            model_price = PutPrice(S0, implied_vol, K[i], T[i], r, q)\n",
    "        \n",
    "        # Compute squared error\n",
    "        MSE_Price += (model_price - Price[i])**2\n",
    "    \n",
    "    return MSE_Price / len(T)  # Return mean squared error\n",
    "\n",
    "\n",
    "def MSE_IV_SVIJW(params, T, S0, K, IV_):\n",
    "    \"\"\"\n",
    "    Calculate the mean squared error (MSE) for implied volatility (IV) using SVI-JW.\n",
    "\n",
    "    Arguments:\n",
    "    - params: Parameters to be optimized.\n",
    "    - T: Array of time to maturities.\n",
    "    - S0: Spot price.\n",
    "    - K: Array of strike prices.\n",
    "    - IV_: Observed implied volatilities.\n",
    "    \n",
    "    Returns:\n",
    "    - MSE_IV: Mean squared error between model IV and observed IV.\n",
    "    \"\"\"\n",
    "    MSE_IV = 0\n",
    "    alpha = 10/np.std(np.log(np.array(K)/spot))**2\n",
    "    for i in range(len(T)):\n",
    "        \n",
    "        # Compute model implied volatility using SVI-JW\n",
    "        svijw_iv = (TotalVarSVIJW(S0, K[i], T[i], *params) / T[i])**0.5\n",
    "        w = (1/(1+(np.log(K[i]/spot)**2 * alpha)))\n",
    "        # print(w, K[i])\n",
    "        # Add the squared error\n",
    "        MSE_IV += (svijw_iv - IV_[i])**2 #* w\n",
    "    # Return the mean squared error\n",
    "    return MSE_IV / len(T)\n",
    "\n",
    "\n",
    "all_guesses = []\n",
    "def save_guesses(x):\n",
    "    all_guesses.append(x)\n",
    "\n",
    "cons=(\n",
    "{'type': 'ineq', 'fun': lambda x: x[0] - 0.00001}, #v > 0 \n",
    "{'type': 'ineq', 'fun': lambda x: x[0] - x[4]}, #v >= v_tilde\n",
    "{'type': 'ineq', 'fun': lambda x: x[4] - 0.00001}, #v_tilde > 0 \n",
    "{'type': 'ineq', 'fun': lambda x: x[2]}, #p >= 0\n",
    "{'type': 'ineq', 'fun': lambda x: x[3]}, #c >= 0\n",
    ")\n",
    "\n",
    "bounds = [\n",
    "    (0.00001, 10),  # x[0] (arbitrary upper bound to limit search space)\n",
    "    (0, 10),        # x[1] (no constraint specified, adjust as needed)\n",
    "    (0, 10),        # x[2] (p >= 0)\n",
    "    (0, 10),        # x[3] (c >= 0)\n",
    "    (0.00001, 10),  # x[4] (v_tilde > 0)\n",
    "]\n",
    "\n",
    "\n"
   ]
  },
  {
   "cell_type": "markdown",
   "metadata": {},
   "source": [
    "## Producing Slope of Wings"
   ]
  },
  {
   "cell_type": "code",
   "execution_count": 8,
   "metadata": {},
   "outputs": [
    {
     "data": {
      "text/plain": [
       "(0.31620270358030805, 0.2042544619815078)"
      ]
     },
     "execution_count": 8,
     "metadata": {},
     "output_type": "execute_result"
    }
   ],
   "source": [
    "IV = interp1d(K, IV_)\n",
    "l=  abs((IV(min(K)) - IV(100))/2*t*100**0.5)\n",
    "r = abs((IV(100) - IV(150))/2*t*100**0.5)\n",
    "adj_k = K#[1:-1]\n",
    "atm_iv = IV(spot)\n",
    "slope_min = (((IV(min(adj_k))*np.exp(0.01) - IV(min(adj_k)))/0.02) * 1/(atm_iv)**.5)/2\n",
    "slope_max = (((IV(max(adj_k)) - IV(max(adj_k))*np.exp(-0.01))/0.02) * 1/(atm_iv)**.5)/2\n",
    "l, r\n",
    "slope_min, slope_max"
   ]
  },
  {
   "cell_type": "code",
   "execution_count": 9,
   "metadata": {},
   "outputs": [
    {
     "data": {
      "text/plain": [
       "(1.7186623870196904, 1.1213456199542662)"
      ]
     },
     "execution_count": 9,
     "metadata": {},
     "output_type": "execute_result"
    }
   ],
   "source": [
    "slope_scaling_min = ((IV(min(K))*100*2*t)/ (IV(spot)*100*2*t))\n",
    "\n",
    "slope_scaling_max = ((IV(max(K))*100*2*t)/ (IV(spot)*100*2*t))\n",
    "\n",
    "slope_scaling_min, slope_scaling_max"
   ]
  },
  {
   "cell_type": "code",
   "execution_count": 16,
   "metadata": {},
   "outputs": [
    {
     "data": {
      "text/plain": [
       "[0.28750596719727306, -0.22330314551648, 1, 1.6, 0.2815813645885653]"
      ]
     },
     "execution_count": 16,
     "metadata": {},
     "output_type": "execute_result"
    }
   ],
   "source": [
    "\n",
    "minIV = min(IV_)\n",
    "n = len(IV_)\n",
    "t = T[0]\n",
    "params=[0,0,0,0,0]\n",
    "params[0] = IV(spot)**2 #v from ATM vol\n",
    "if right == 'C':\n",
    "    params[1]  = ((IV(spot+1) - IV(spot-1))/2*100*t**0.5) # PSI is skew of the ATM. (101-99)/2 * 100 * sqrt(t)\n",
    "else:\n",
    "    params[1]  = ((IV(spot-1) - IV(spot+1))/2*100*t**0.5)\n",
    "params[2], params[3] = 1,1.6\n",
    "# params[2], params[3] = l*100, r*1\n",
    "# params[2], params[3] = slope_min*slope_scaling_min, slope_max*slope_scaling_max\n",
    "# params[2], params[3] = left_wing_slope/2, right_wing_slope/2\n",
    "params[4] = minIV**2\n",
    "params #atm vol, atm skew, slope of left wing, slope of right, min vol \n",
    "# [v, psi, p, c, v_tilde]"
   ]
  },
  {
   "cell_type": "code",
   "execution_count": 17,
   "metadata": {},
   "outputs": [
    {
     "name": "stdout",
     "output_type": "stream",
     "text": [
      "Usimg method: SLSQP for P options\n",
      "Params:  [0.2782601144955492, -0.00822403060304945, 1.0325904825732073, 1.5848812817130633, 0.27812477015323434]\n",
      "MSE: 0.00044492979305208147\n"
     ]
    }
   ],
   "source": [
    "warnings.filterwarnings('ignore')\n",
    "from copy import deepcopy\n",
    "min_func = MSE_IV_SVIJW\n",
    "method = 'L-BFGS-B' if right == 'C' else 'SLSQP'\n",
    "method = 'SLSQP' \n",
    "print('Usimg method: ' + method, 'for ' + right + ' options')\n",
    "result = minimize(min_func, params, constraints=cons, method = method, tol = 1e-10, args=(deepcopy(T), deepcopy(S0), deepcopy(K), deepcopy(IV_)), callback=save_guesses) ## Minimize the MSE_Price_SVI function\n",
    "## Too fit to Price, it's better to use theoritical price than market price\n",
    "new_params = result['x']\n",
    "\n",
    "print('Params:  ' + str(new_params.tolist()))\n",
    "print('MSE: ' + str(min_func(new_params, T, S0, K, IV_)))"
   ]
  },
  {
   "cell_type": "code",
   "execution_count": 1262,
   "metadata": {},
   "outputs": [
    {
     "data": {
      "text/plain": [
       "(0.06327656661649603, 0.1403922451179169)"
      ]
     },
     "execution_count": 1262,
     "metadata": {},
     "output_type": "execute_result"
    }
   ],
   "source": [
    "0.00400392388277186**0.5, minIV"
   ]
  },
  {
   "cell_type": "code",
   "execution_count": 1263,
   "metadata": {},
   "outputs": [
    {
     "data": {
      "text/plain": [
       "0.1403922451179169"
      ]
     },
     "execution_count": 1263,
     "metadata": {},
     "output_type": "execute_result"
    }
   ],
   "source": [
    "chain.vol.min()"
   ]
  },
  {
   "cell_type": "markdown",
   "metadata": {},
   "source": [
    "\n",
    "With skew aligned to C\n",
    "Params:  [0.036444479446445334, -0.025097206294511867, 1.8948440849254535, 1.7434885230170074, 0.036274103128823655]\n",
    "MSE: 0.0008112145002034027\n",
    "\n",
    "Params:  [0.08886551033468171, -0.060881380111028095, 1.3221704547965478, 0.4032083383980593, 0.08452303403864103]\n",
    "MSE: 3.7405801891141994e-06\n",
    "\n",
    "With inverted skew:\n",
    "Params:  [0.04063955618474549, -0.08498943438917161, 3.1510142722789953, 213.79119424409595, 0.037968576786228135]\n",
    "MSE: 0.0003595461280350463\n",
    "\n",
    "Params:  [0.08684458738410378, 0.014843302314578862, 0.8234180044132045, 0.38903128034533263, 0.08672438640610436]\n",
    "MSE: 8.620153045094583e-05\n"
   ]
  },
  {
   "cell_type": "code",
   "execution_count": 1254,
   "metadata": {},
   "outputs": [
    {
     "name": "stdout",
     "output_type": "stream",
     "text": [
      "Params:  [0.022840387430073973, -0.05191980449758117, 0.9883543482368248, 0.0834505079485819, 0.01970998248924926]\n",
      "MSE: 0.005769960187763348\n"
     ]
    },
    {
     "data": {
      "text/plain": [
       "[0.022840387430073973,\n",
       " -0.05191980449758117,\n",
       " 0.9883543482368248,\n",
       " 0.0834505079485819,\n",
       " 0.01970998248924926]"
      ]
     },
     "execution_count": 1254,
     "metadata": {},
     "output_type": "execute_result"
    }
   ],
   "source": [
    "min_func = MSE_IV_SVIJW\n",
    "print('Params:  ' + str(new_params.tolist()))\n",
    "print('MSE: ' + str(min_func(new_params, T, S0, K, IV_)))\n",
    "new_params.tolist()"
   ]
  },
  {
   "cell_type": "code",
   "execution_count": 18,
   "metadata": {},
   "outputs": [
    {
     "data": {
      "application/vnd.plotly.v1+json": {
       "config": {
        "plotlyServerURL": "https://plot.ly"
       },
       "data": [
        {
         "mode": "markers",
         "name": "Market IV",
         "type": "scatter",
         "x": [
          5,
          15,
          20,
          25,
          30,
          50,
          60,
          65,
          70,
          75,
          80,
          85,
          90,
          95,
          100,
          110,
          115,
          120,
          125,
          130,
          140,
          150,
          165,
          230
         ],
         "y": [
          0.921539603636007,
          0.6753410212124195,
          0.6503556984669956,
          0.6251314946856072,
          0.6022774867920011,
          0.5559047216524412,
          0.5479243789042803,
          0.5435216581812996,
          0.5393339453987277,
          0.5385961488926246,
          0.5352844657633398,
          0.532795690079897,
          0.5315715975603085,
          0.5324517696525048,
          0.530642407453989,
          0.530789364790948,
          0.5322325138170891,
          0.5348604041707943,
          0.5425352361406274,
          0.538793008489003,
          0.5370914546857066,
          0.5438804325244709,
          0.5563783689329594,
          0.6012608444544889
         ]
        },
        {
         "mode": "lines",
         "name": "SVI IV",
         "type": "scatter",
         "x": [
          5,
          9.595959595959595,
          14.191919191919192,
          18.78787878787879,
          23.383838383838384,
          27.97979797979798,
          32.57575757575758,
          37.17171717171717,
          41.76767676767677,
          46.36363636363637,
          50.95959595959596,
          55.55555555555556,
          60.151515151515156,
          64.74747474747474,
          69.34343434343434,
          73.93939393939394,
          78.53535353535354,
          83.13131313131314,
          87.72727272727273,
          92.32323232323232,
          96.91919191919192,
          101.51515151515152,
          106.11111111111111,
          110.70707070707071,
          115.30303030303031,
          119.8989898989899,
          124.4949494949495,
          129.0909090909091,
          133.68686868686868,
          138.2828282828283,
          142.87878787878788,
          147.4747474747475,
          152.07070707070707,
          156.66666666666666,
          161.26262626262627,
          165.85858585858585,
          170.45454545454547,
          175.05050505050505,
          179.64646464646464,
          184.24242424242425,
          188.83838383838383,
          193.43434343434345,
          198.03030303030303,
          202.62626262626262,
          207.22222222222223,
          211.8181818181818,
          216.41414141414143,
          221.010101010101,
          225.60606060606062,
          230.2020202020202,
          234.7979797979798,
          239.3939393939394,
          243.989898989899,
          248.5858585858586,
          253.1818181818182,
          257.77777777777777,
          262.37373737373736,
          266.969696969697,
          271.5656565656566,
          276.16161616161617,
          280.75757575757575,
          285.35353535353534,
          289.949494949495,
          294.54545454545456,
          299.14141414141415,
          303.73737373737373,
          308.3333333333333,
          312.92929292929296,
          317.52525252525254,
          322.1212121212121,
          326.7171717171717,
          331.3131313131313,
          335.90909090909093,
          340.5050505050505,
          345.1010101010101,
          349.6969696969697,
          354.2929292929293,
          358.8888888888889,
          363.4848484848485,
          368.0808080808081,
          372.67676767676767,
          377.27272727272725,
          381.8686868686869,
          386.4646464646465,
          391.06060606060606,
          395.65656565656565,
          400.25252525252523,
          404.8484848484849,
          409.44444444444446,
          414.04040404040404,
          418.6363636363636,
          423.2323232323232,
          427.82828282828285,
          432.42424242424244,
          437.020202020202,
          441.6161616161616,
          446.21212121212125,
          450.80808080808083,
          455.4040404040404,
          460
         ],
         "y": [
          0.8670716379485065,
          0.7749206873429888,
          0.7206898909378295,
          0.6831188671824524,
          0.6550219767090042,
          0.6330607066377021,
          0.6154006173165977,
          0.6009211187633874,
          0.5888855055249168,
          0.5787825351877032,
          0.5702424007454063,
          0.5629886841249508,
          0.5568092161853678,
          0.5515375425154636,
          0.5470406627987049,
          0.5432106480112289,
          0.5399587452490993,
          0.5372111299103355,
          0.5349057792613445,
          0.5329901279940871,
          0.5314192808517285,
          0.5301546297000711,
          0.529162769275827,
          0.5284146369121067,
          0.5278848225740349,
          0.5275510100441279,
          0.5273935202742862,
          0.5273949351728829,
          0.5275397853366884,
          0.5278142890756643,
          0.5282061329239238,
          0.5287042859631679,
          0.5292988419008458,
          0.5299808840815088,
          0.5307423695642398,
          0.5315760291422279,
          0.5324752807639246,
          0.5334341542766019,
          0.5344472257806466,
          0.5355095601776275,
          0.5366166607329932,
          0.5377644246673087,
          0.5389491039475562,
          0.5401672705793883,
          0.541415785807916,
          0.5426917727230894,
          0.5439925918393537,
          0.5453158192808651,
          0.5466592272552715,
          0.5480207665426413,
          0.5493985507630331,
          0.5507908422175014,
          0.5521960391240318,
          0.5536126640926997,
          0.5550393537039094,
          0.5564748490703774,
          0.557917987278028,
          0.5593676936135096,
          0.560822974496896,
          0.5622829110475912,
          0.5637466532196764,
          0.5652134144501205,
          0.5666824667695538,
          0.5681531363308194,
          0.569624799315353,
          0.5710968781816952,
          0.5725688382242098,
          0.5740401844133872,
          0.5755104584920577,
          0.5769792363044347,
          0.5784461253372317,
          0.5799107624541378,
          0.5813728118067817,
          0.5828319629069355,
          0.5842879288461794,
          0.5857404446505412,
          0.5871892657588081,
          0.5886341666142411,
          0.5900749393603748,
          0.5915113926324285,
          0.5929433504366116,
          0.5943706511103024,
          0.5957931463566858,
          0.5972107003480109,
          0.5986231888921185,
          0.6000304986573572,
          0.6014325264514205,
          0.6028291785500077,
          0.6042203700715586,
          0.6056060243946192,
          0.6069860726146785,
          0.6083604530375748,
          0.609729110706799,
          0.6110919969622437,
          0.6124490690281328,
          0.6138002896280497,
          0.6151456266251466,
          0.6164850526857559,
          0.6178185449647742,
          0.6191460848113051
         ]
        }
       ],
       "layout": {
        "height": 800,
        "template": {
         "data": {
          "bar": [
           {
            "error_x": {
             "color": "#2a3f5f"
            },
            "error_y": {
             "color": "#2a3f5f"
            },
            "marker": {
             "line": {
              "color": "#E5ECF6",
              "width": 0.5
             },
             "pattern": {
              "fillmode": "overlay",
              "size": 10,
              "solidity": 0.2
             }
            },
            "type": "bar"
           }
          ],
          "barpolar": [
           {
            "marker": {
             "line": {
              "color": "#E5ECF6",
              "width": 0.5
             },
             "pattern": {
              "fillmode": "overlay",
              "size": 10,
              "solidity": 0.2
             }
            },
            "type": "barpolar"
           }
          ],
          "carpet": [
           {
            "aaxis": {
             "endlinecolor": "#2a3f5f",
             "gridcolor": "white",
             "linecolor": "white",
             "minorgridcolor": "white",
             "startlinecolor": "#2a3f5f"
            },
            "baxis": {
             "endlinecolor": "#2a3f5f",
             "gridcolor": "white",
             "linecolor": "white",
             "minorgridcolor": "white",
             "startlinecolor": "#2a3f5f"
            },
            "type": "carpet"
           }
          ],
          "choropleth": [
           {
            "colorbar": {
             "outlinewidth": 0,
             "ticks": ""
            },
            "type": "choropleth"
           }
          ],
          "contour": [
           {
            "colorbar": {
             "outlinewidth": 0,
             "ticks": ""
            },
            "colorscale": [
             [
              0,
              "#0d0887"
             ],
             [
              0.1111111111111111,
              "#46039f"
             ],
             [
              0.2222222222222222,
              "#7201a8"
             ],
             [
              0.3333333333333333,
              "#9c179e"
             ],
             [
              0.4444444444444444,
              "#bd3786"
             ],
             [
              0.5555555555555556,
              "#d8576b"
             ],
             [
              0.6666666666666666,
              "#ed7953"
             ],
             [
              0.7777777777777778,
              "#fb9f3a"
             ],
             [
              0.8888888888888888,
              "#fdca26"
             ],
             [
              1,
              "#f0f921"
             ]
            ],
            "type": "contour"
           }
          ],
          "contourcarpet": [
           {
            "colorbar": {
             "outlinewidth": 0,
             "ticks": ""
            },
            "type": "contourcarpet"
           }
          ],
          "heatmap": [
           {
            "colorbar": {
             "outlinewidth": 0,
             "ticks": ""
            },
            "colorscale": [
             [
              0,
              "#0d0887"
             ],
             [
              0.1111111111111111,
              "#46039f"
             ],
             [
              0.2222222222222222,
              "#7201a8"
             ],
             [
              0.3333333333333333,
              "#9c179e"
             ],
             [
              0.4444444444444444,
              "#bd3786"
             ],
             [
              0.5555555555555556,
              "#d8576b"
             ],
             [
              0.6666666666666666,
              "#ed7953"
             ],
             [
              0.7777777777777778,
              "#fb9f3a"
             ],
             [
              0.8888888888888888,
              "#fdca26"
             ],
             [
              1,
              "#f0f921"
             ]
            ],
            "type": "heatmap"
           }
          ],
          "heatmapgl": [
           {
            "colorbar": {
             "outlinewidth": 0,
             "ticks": ""
            },
            "colorscale": [
             [
              0,
              "#0d0887"
             ],
             [
              0.1111111111111111,
              "#46039f"
             ],
             [
              0.2222222222222222,
              "#7201a8"
             ],
             [
              0.3333333333333333,
              "#9c179e"
             ],
             [
              0.4444444444444444,
              "#bd3786"
             ],
             [
              0.5555555555555556,
              "#d8576b"
             ],
             [
              0.6666666666666666,
              "#ed7953"
             ],
             [
              0.7777777777777778,
              "#fb9f3a"
             ],
             [
              0.8888888888888888,
              "#fdca26"
             ],
             [
              1,
              "#f0f921"
             ]
            ],
            "type": "heatmapgl"
           }
          ],
          "histogram": [
           {
            "marker": {
             "pattern": {
              "fillmode": "overlay",
              "size": 10,
              "solidity": 0.2
             }
            },
            "type": "histogram"
           }
          ],
          "histogram2d": [
           {
            "colorbar": {
             "outlinewidth": 0,
             "ticks": ""
            },
            "colorscale": [
             [
              0,
              "#0d0887"
             ],
             [
              0.1111111111111111,
              "#46039f"
             ],
             [
              0.2222222222222222,
              "#7201a8"
             ],
             [
              0.3333333333333333,
              "#9c179e"
             ],
             [
              0.4444444444444444,
              "#bd3786"
             ],
             [
              0.5555555555555556,
              "#d8576b"
             ],
             [
              0.6666666666666666,
              "#ed7953"
             ],
             [
              0.7777777777777778,
              "#fb9f3a"
             ],
             [
              0.8888888888888888,
              "#fdca26"
             ],
             [
              1,
              "#f0f921"
             ]
            ],
            "type": "histogram2d"
           }
          ],
          "histogram2dcontour": [
           {
            "colorbar": {
             "outlinewidth": 0,
             "ticks": ""
            },
            "colorscale": [
             [
              0,
              "#0d0887"
             ],
             [
              0.1111111111111111,
              "#46039f"
             ],
             [
              0.2222222222222222,
              "#7201a8"
             ],
             [
              0.3333333333333333,
              "#9c179e"
             ],
             [
              0.4444444444444444,
              "#bd3786"
             ],
             [
              0.5555555555555556,
              "#d8576b"
             ],
             [
              0.6666666666666666,
              "#ed7953"
             ],
             [
              0.7777777777777778,
              "#fb9f3a"
             ],
             [
              0.8888888888888888,
              "#fdca26"
             ],
             [
              1,
              "#f0f921"
             ]
            ],
            "type": "histogram2dcontour"
           }
          ],
          "mesh3d": [
           {
            "colorbar": {
             "outlinewidth": 0,
             "ticks": ""
            },
            "type": "mesh3d"
           }
          ],
          "parcoords": [
           {
            "line": {
             "colorbar": {
              "outlinewidth": 0,
              "ticks": ""
             }
            },
            "type": "parcoords"
           }
          ],
          "pie": [
           {
            "automargin": true,
            "type": "pie"
           }
          ],
          "scatter": [
           {
            "fillpattern": {
             "fillmode": "overlay",
             "size": 10,
             "solidity": 0.2
            },
            "type": "scatter"
           }
          ],
          "scatter3d": [
           {
            "line": {
             "colorbar": {
              "outlinewidth": 0,
              "ticks": ""
             }
            },
            "marker": {
             "colorbar": {
              "outlinewidth": 0,
              "ticks": ""
             }
            },
            "type": "scatter3d"
           }
          ],
          "scattercarpet": [
           {
            "marker": {
             "colorbar": {
              "outlinewidth": 0,
              "ticks": ""
             }
            },
            "type": "scattercarpet"
           }
          ],
          "scattergeo": [
           {
            "marker": {
             "colorbar": {
              "outlinewidth": 0,
              "ticks": ""
             }
            },
            "type": "scattergeo"
           }
          ],
          "scattergl": [
           {
            "marker": {
             "colorbar": {
              "outlinewidth": 0,
              "ticks": ""
             }
            },
            "type": "scattergl"
           }
          ],
          "scattermapbox": [
           {
            "marker": {
             "colorbar": {
              "outlinewidth": 0,
              "ticks": ""
             }
            },
            "type": "scattermapbox"
           }
          ],
          "scatterpolar": [
           {
            "marker": {
             "colorbar": {
              "outlinewidth": 0,
              "ticks": ""
             }
            },
            "type": "scatterpolar"
           }
          ],
          "scatterpolargl": [
           {
            "marker": {
             "colorbar": {
              "outlinewidth": 0,
              "ticks": ""
             }
            },
            "type": "scatterpolargl"
           }
          ],
          "scatterternary": [
           {
            "marker": {
             "colorbar": {
              "outlinewidth": 0,
              "ticks": ""
             }
            },
            "type": "scatterternary"
           }
          ],
          "surface": [
           {
            "colorbar": {
             "outlinewidth": 0,
             "ticks": ""
            },
            "colorscale": [
             [
              0,
              "#0d0887"
             ],
             [
              0.1111111111111111,
              "#46039f"
             ],
             [
              0.2222222222222222,
              "#7201a8"
             ],
             [
              0.3333333333333333,
              "#9c179e"
             ],
             [
              0.4444444444444444,
              "#bd3786"
             ],
             [
              0.5555555555555556,
              "#d8576b"
             ],
             [
              0.6666666666666666,
              "#ed7953"
             ],
             [
              0.7777777777777778,
              "#fb9f3a"
             ],
             [
              0.8888888888888888,
              "#fdca26"
             ],
             [
              1,
              "#f0f921"
             ]
            ],
            "type": "surface"
           }
          ],
          "table": [
           {
            "cells": {
             "fill": {
              "color": "#EBF0F8"
             },
             "line": {
              "color": "white"
             }
            },
            "header": {
             "fill": {
              "color": "#C8D4E3"
             },
             "line": {
              "color": "white"
             }
            },
            "type": "table"
           }
          ]
         },
         "layout": {
          "annotationdefaults": {
           "arrowcolor": "#2a3f5f",
           "arrowhead": 0,
           "arrowwidth": 1
          },
          "autotypenumbers": "strict",
          "coloraxis": {
           "colorbar": {
            "outlinewidth": 0,
            "ticks": ""
           }
          },
          "colorscale": {
           "diverging": [
            [
             0,
             "#8e0152"
            ],
            [
             0.1,
             "#c51b7d"
            ],
            [
             0.2,
             "#de77ae"
            ],
            [
             0.3,
             "#f1b6da"
            ],
            [
             0.4,
             "#fde0ef"
            ],
            [
             0.5,
             "#f7f7f7"
            ],
            [
             0.6,
             "#e6f5d0"
            ],
            [
             0.7,
             "#b8e186"
            ],
            [
             0.8,
             "#7fbc41"
            ],
            [
             0.9,
             "#4d9221"
            ],
            [
             1,
             "#276419"
            ]
           ],
           "sequential": [
            [
             0,
             "#0d0887"
            ],
            [
             0.1111111111111111,
             "#46039f"
            ],
            [
             0.2222222222222222,
             "#7201a8"
            ],
            [
             0.3333333333333333,
             "#9c179e"
            ],
            [
             0.4444444444444444,
             "#bd3786"
            ],
            [
             0.5555555555555556,
             "#d8576b"
            ],
            [
             0.6666666666666666,
             "#ed7953"
            ],
            [
             0.7777777777777778,
             "#fb9f3a"
            ],
            [
             0.8888888888888888,
             "#fdca26"
            ],
            [
             1,
             "#f0f921"
            ]
           ],
           "sequentialminus": [
            [
             0,
             "#0d0887"
            ],
            [
             0.1111111111111111,
             "#46039f"
            ],
            [
             0.2222222222222222,
             "#7201a8"
            ],
            [
             0.3333333333333333,
             "#9c179e"
            ],
            [
             0.4444444444444444,
             "#bd3786"
            ],
            [
             0.5555555555555556,
             "#d8576b"
            ],
            [
             0.6666666666666666,
             "#ed7953"
            ],
            [
             0.7777777777777778,
             "#fb9f3a"
            ],
            [
             0.8888888888888888,
             "#fdca26"
            ],
            [
             1,
             "#f0f921"
            ]
           ]
          },
          "colorway": [
           "#636efa",
           "#EF553B",
           "#00cc96",
           "#ab63fa",
           "#FFA15A",
           "#19d3f3",
           "#FF6692",
           "#B6E880",
           "#FF97FF",
           "#FECB52"
          ],
          "font": {
           "color": "#2a3f5f"
          },
          "geo": {
           "bgcolor": "white",
           "lakecolor": "white",
           "landcolor": "#E5ECF6",
           "showlakes": true,
           "showland": true,
           "subunitcolor": "white"
          },
          "hoverlabel": {
           "align": "left"
          },
          "hovermode": "closest",
          "mapbox": {
           "style": "light"
          },
          "paper_bgcolor": "white",
          "plot_bgcolor": "#E5ECF6",
          "polar": {
           "angularaxis": {
            "gridcolor": "white",
            "linecolor": "white",
            "ticks": ""
           },
           "bgcolor": "#E5ECF6",
           "radialaxis": {
            "gridcolor": "white",
            "linecolor": "white",
            "ticks": ""
           }
          },
          "scene": {
           "xaxis": {
            "backgroundcolor": "#E5ECF6",
            "gridcolor": "white",
            "gridwidth": 2,
            "linecolor": "white",
            "showbackground": true,
            "ticks": "",
            "zerolinecolor": "white"
           },
           "yaxis": {
            "backgroundcolor": "#E5ECF6",
            "gridcolor": "white",
            "gridwidth": 2,
            "linecolor": "white",
            "showbackground": true,
            "ticks": "",
            "zerolinecolor": "white"
           },
           "zaxis": {
            "backgroundcolor": "#E5ECF6",
            "gridcolor": "white",
            "gridwidth": 2,
            "linecolor": "white",
            "showbackground": true,
            "ticks": "",
            "zerolinecolor": "white"
           }
          },
          "shapedefaults": {
           "line": {
            "color": "#2a3f5f"
           }
          },
          "ternary": {
           "aaxis": {
            "gridcolor": "white",
            "linecolor": "white",
            "ticks": ""
           },
           "baxis": {
            "gridcolor": "white",
            "linecolor": "white",
            "ticks": ""
           },
           "bgcolor": "#E5ECF6",
           "caxis": {
            "gridcolor": "white",
            "linecolor": "white",
            "ticks": ""
           }
          },
          "title": {
           "x": 0.05
          },
          "xaxis": {
           "automargin": true,
           "gridcolor": "white",
           "linecolor": "white",
           "ticks": "",
           "title": {
            "standoff": 15
           },
           "zerolinecolor": "white",
           "zerolinewidth": 2
          },
          "yaxis": {
           "automargin": true,
           "gridcolor": "white",
           "linecolor": "white",
           "ticks": "",
           "title": {
            "standoff": 15
           },
           "zerolinecolor": "white",
           "zerolinewidth": 2
          }
         }
        },
        "title": {
         "text": "Market IV vs Strike Price"
        },
        "width": 800,
        "xaxis": {
         "title": {
          "text": "Strike Price"
         }
        },
        "yaxis": {
         "title": {
          "text": "Implied Volatility"
         }
        }
       }
      }
     },
     "metadata": {},
     "output_type": "display_data"
    }
   ],
   "source": [
    "range_ = np.linspace(min(K), max(K)*2, 100)\n",
    "new_vols = (TotalVarSVIJW(S0, range_, T[0], *new_params)/T[0])**0.5\n",
    "new_vols\n",
    "\n",
    "import plotly.graph_objects as go\n",
    "fig = go.Figure()\n",
    "\n",
    "fig.add_trace(go.Scatter(x=K, y=IV_, mode='markers', name='Market IV'))\n",
    "fig.add_trace(go.Scatter(x=range_, y=new_vols, mode='lines', name='SVI IV')) \n",
    "fig.update_layout(title='Market IV vs Strike Price', xaxis_title='Strike Price', yaxis_title='Implied Volatility', height = 800, width = 800)\n",
    "fig.show()"
   ]
  },
  {
   "cell_type": "markdown",
   "metadata": {},
   "source": [
    "## Trying creating initial guess from previous method"
   ]
  },
  {
   "cell_type": "code",
   "execution_count": 1265,
   "metadata": {},
   "outputs": [
    {
     "name": "stdout",
     "output_type": "stream",
     "text": [
      "Usimg method: SLSQP for P options on first run\n",
      "Usimg method: L-BFGS-B for P options on second run\n",
      "Params Run one:  [0.023726038418294466, -0.2956223527037472, 1.8078360399253242, 0.31308665713003764, 0.00400392388277186]\n",
      "MSE Run one: 4.494919160159693e-06\n",
      "Params Run Two:  [0.023726038418294466, -0.2956223527037472, 1.8078360399253242, 0.31308665713003764, 0.00400392388277186]\n",
      "MSE Run Two: 4.494919160159693e-06\n"
     ]
    }
   ],
   "source": [
    "warnings.filterwarnings('ignore')\n",
    "from copy import deepcopy\n",
    "min_func = MSE_IV_SVIJW\n",
    "method = 'L-BFGS-B' if right == 'C' else 'SLSQP'\n",
    "\n",
    "method = 'SLSQP' \n",
    "print('Usimg method: ' + method, 'for ' + right + ' options on first run')\n",
    "result = minimize(min_func, params, constraints=cons, method = method, tol = 1e-10, args=(deepcopy(T), deepcopy(S0), deepcopy(K), deepcopy(IV_)), callback=save_guesses) ## Minimize the MSE_Price_SVI function\n",
    "run_one_params = result['x']\n",
    "\n",
    "\n",
    "method = 'L-BFGS-B'\n",
    "print('Usimg method: ' + method, 'for ' + right + ' options on second run')\n",
    "result = minimize(min_func, run_one_params, constraints=cons, method = method, tol = 1e-10, args=(deepcopy(T), deepcopy(S0), deepcopy(K), deepcopy(IV_)), callback=save_guesses) ## Minimize the MSE_Price_SVI function\n",
    "new_params = result['x']\n",
    "\n",
    "print('Params Run one:  ' + str(run_one_params.tolist()))\n",
    "print('MSE Run one: ' + str(min_func(run_one_params, T, S0, K, IV_)))\n",
    "print('Params Run Two:  ' + str(new_params.tolist()))\n",
    "print('MSE Run Two: ' + str(min_func(new_params, T, S0, K, IV_)))"
   ]
  },
  {
   "cell_type": "code",
   "execution_count": 1266,
   "metadata": {},
   "outputs": [
    {
     "data": {
      "text/plain": [
       "array([0.4788255 , 0.4659442 , 0.4532801 , 0.44081978, 0.42855173,\n",
       "       0.41646622, 0.40455517, 0.39281208, 0.38123189, 0.36981098,\n",
       "       0.35854706, 0.34743911, 0.33648733, 0.32569306, 0.31505873,\n",
       "       0.30458772, 0.29428431, 0.2841535 , 0.27420097, 0.26443285,\n",
       "       0.2548556 , 0.24547587, 0.23630031, 0.22733542, 0.21858741,\n",
       "       0.21006205, 0.2017646 , 0.19369968, 0.18587125, 0.17828254,\n",
       "       0.17093608, 0.16383371, 0.15697667, 0.15036557, 0.14400058,\n",
       "       0.13788147, 0.13200768, 0.1263785 , 0.12099308, 0.1158506 ,\n",
       "       0.11095029, 0.10629152, 0.10187387, 0.09769716, 0.09376145,\n",
       "       0.09006702, 0.08661436, 0.08340407, 0.0804368 , 0.07771305,\n",
       "       0.07523306, 0.07299661, 0.07100278, 0.06924983, 0.06773489,\n",
       "       0.06645392, 0.0654015 , 0.06457083, 0.06395374, 0.06354074,\n",
       "       0.06332124, 0.06328371, 0.06341593, 0.06370526, 0.06413889,\n",
       "       0.0647041 , 0.06538842, 0.06617987, 0.06706703, 0.06803916,\n",
       "       0.06908627, 0.07019914, 0.07136929, 0.07258903, 0.07385137,\n",
       "       0.07515002, 0.07647931, 0.07783418, 0.07921011, 0.08060306,\n",
       "       0.08200945, 0.0834261 , 0.08485021, 0.08627928, 0.08771111,\n",
       "       0.08914378, 0.09057557, 0.09200499, 0.09343073, 0.09485163,\n",
       "       0.0962667 , 0.09767505, 0.09907593, 0.10046868, 0.10185273,\n",
       "       0.1032276 , 0.10459287, 0.10594819, 0.10729327, 0.10862786])"
      ]
     },
     "execution_count": 1266,
     "metadata": {},
     "output_type": "execute_result"
    }
   ],
   "source": [
    "new_params.tolist()\n",
    "from functools import partial\n",
    "call_svijw = partial(TotalVarSVIJW, S0 = spot, t = T[0], v = new_params[0], psi = new_params[1], p = new_params[2], c = new_params[3], v_tilde = new_params[4])\n",
    "\n",
    "\n",
    "(call_svijw(K = range_)/T[0])**0.5\n",
    "# (put_svijw(K = range_)/T[0])**0.5"
   ]
  },
  {
   "cell_type": "code",
   "execution_count": 1267,
   "metadata": {},
   "outputs": [
    {
     "data": {
      "text/plain": [
       "array([0.4788255 , 0.4659442 , 0.4532801 , 0.44081978, 0.42855173,\n",
       "       0.41646622, 0.40455517, 0.39281208, 0.38123189, 0.36981098,\n",
       "       0.35854706, 0.34743911, 0.33648733, 0.32569306, 0.31505873,\n",
       "       0.30458772, 0.29428431, 0.2841535 , 0.27420097, 0.26443285,\n",
       "       0.2548556 , 0.24547587, 0.23630031, 0.22733542, 0.21858741,\n",
       "       0.21006205, 0.2017646 , 0.19369968, 0.18587125, 0.17828254,\n",
       "       0.17093608, 0.16383371, 0.15697667, 0.15036557, 0.14400058,\n",
       "       0.13788147, 0.13200768, 0.1263785 , 0.12099308, 0.1158506 ,\n",
       "       0.11095029, 0.10629152, 0.10187387, 0.09769716, 0.09376145,\n",
       "       0.09006702, 0.08661436, 0.08340407, 0.0804368 , 0.07771305,\n",
       "       0.07523306, 0.07299661, 0.07100278, 0.06924983, 0.06773489,\n",
       "       0.06645392, 0.0654015 , 0.06457083, 0.06395374, 0.06354074,\n",
       "       0.06332124, 0.06328371, 0.06341593, 0.06370526, 0.06413889,\n",
       "       0.0647041 , 0.06538842, 0.06617987, 0.06706703, 0.06803916,\n",
       "       0.06908627, 0.07019914, 0.07136929, 0.07258903, 0.07385137,\n",
       "       0.07515002, 0.07647931, 0.07783418, 0.07921011, 0.08060306,\n",
       "       0.08200945, 0.0834261 , 0.08485021, 0.08627928, 0.08771111,\n",
       "       0.08914378, 0.09057557, 0.09200499, 0.09343073, 0.09485163,\n",
       "       0.0962667 , 0.09767505, 0.09907593, 0.10046868, 0.10185273,\n",
       "       0.1032276 , 0.10459287, 0.10594819, 0.10729327, 0.10862786])"
      ]
     },
     "execution_count": 1267,
     "metadata": {},
     "output_type": "execute_result"
    }
   ],
   "source": [
    "new_vols"
   ]
  },
  {
   "cell_type": "code",
   "execution_count": 1159,
   "metadata": {},
   "outputs": [
    {
     "data": {
      "text/plain": [
       "<matplotlib.legend.Legend at 0x13c1d4850>"
      ]
     },
     "execution_count": 1159,
     "metadata": {},
     "output_type": "execute_result"
    },
    {
     "data": {
      "image/png": "[encoded data removed]",
      "text/plain": [
       "<Figure size 640x480 with 1 Axes>"
      ]
     },
     "metadata": {},
     "output_type": "display_data"
    }
   ],
   "source": [
    "range_ = np.linspace(min(K), max(K), 87)\n",
    "def w(k, s0):\n",
    "    m = np.log(k/s0)\n",
    "    return 1/(1+np.exp(4*m))\n",
    "\n",
    "# vols_itm_combined =( (1-w(range_, spot)) * (put_svijw(K = range_)/T[0])**0.5) + ((w(range_, spot)) * (call_svijw(K = range_)/T[0])**0.5)\n",
    "# vols_otm_combined =( (1-w(range_, spot)) * (call_svijw(K = range_)/T[0])**0.5) + ((w(range_, spot)) * (put_svijw(K = range_)/T[0])**0.5)\n",
    "# calls_vol = (call_svijw(K = range_)/T[0])**0.5\n",
    "# puts_vol = (put_svijw(K = range_)/T[0])**0.5\n",
    "plt.plot(range_, vols_itm_combined, label = 'Combined Volatility (OTM Options)')\n",
    "plt.title('Combined Volatility (OTM Options)')\n",
    "plt.plot(range_, puts_vol, label = 'Put Volatility (OTM Options)', linestyle = 'none', marker = 'o', markersize = 1, color = 'black')\n",
    "plt.title('Put Volatility (OTM Options)')\n",
    "plt.plot(range_, calls_vol, label = 'Call Volatility (OTM Options)', linestyle = 'none', marker = 'o', markersize = 1, color = 'blue')\n",
    "plt.plot(range_, IV_, label = 'Market IV', linestyle = 'none', marker = 'x', markersize = 2, color = 'grey')\n",
    "plt.title('Combined Volatility (OTM Options)')\n",
    "plt.legend()"
   ]
  },
  {
   "cell_type": "code",
   "execution_count": 1072,
   "metadata": {},
   "outputs": [
    {
     "data": {
      "text/plain": [
       "146"
      ]
     },
     "execution_count": 1072,
     "metadata": {},
     "output_type": "execute_result"
    }
   ],
   "source": [
    "len(IV_)"
   ]
  },
  {
   "cell_type": "code",
   "execution_count": 1078,
   "metadata": {},
   "outputs": [
    {
     "data": {
      "text/plain": [
       "[<matplotlib.lines.Line2D at 0x13b83d6d0>]"
      ]
     },
     "execution_count": 1078,
     "metadata": {},
     "output_type": "execute_result"
    },
    {
     "data": {
      "image/png": "[encoded data removed]",
      "text/plain": [
       "<Figure size 640x480 with 1 Axes>"
      ]
     },
     "metadata": {},
     "output_type": "display_data"
    }
   ],
   "source": [
    "((1-w(range_, spot)) * (call_svijw(K = range_)/T[0])**0.5)\n",
    "vols_combined =( w(range_, spot) * (put_svijw(K = range_)/T[0])**0.5) + ((1-w(range_, spot)) * (call_svijw(K = range_)/T[0])**0.5)\n",
    "plt.plot(range_, vols_combined)"
   ]
  },
  {
   "cell_type": "code",
   "execution_count": 1064,
   "metadata": {},
   "outputs": [
    {
     "data": {
      "text/plain": [
       "array([2.03609311, 1.89410977, 1.76312894, 1.6423583 , 1.53126714,\n",
       "       1.42944486, 1.33650215, 1.25201201, 1.1754863 , 1.1063792 ,\n",
       "       1.04410663, 0.98807128, 0.93768585, 0.89239091, 0.85166645,\n",
       "       0.8150377 , 0.78207676, 0.75240132, 0.72567168, 0.70158692,\n",
       "       0.67988077, 0.66031759, 0.6426886 , 0.62680846, 0.61251226,\n",
       "       0.59965287, 0.58809872, 0.57773178, 0.56844592, 0.56014547,\n",
       "       0.55274402, 0.54616329, 0.54033233, 0.53518665, 0.53066758,\n",
       "       0.52672167, 0.52330018, 0.52035863, 0.51785636, 0.51575622,\n",
       "       0.51402422, 0.51262926, 0.51154286, 0.51073893, 0.51019358,\n",
       "       0.50988489, 0.50979279, 0.50989885, 0.51018618, 0.51063928,\n",
       "       0.51124391, 0.51198702, 0.51285661, 0.51384166, 0.51493205,\n",
       "       0.51611848, 0.51739241, 0.51874597, 0.52017193, 0.52166365,\n",
       "       0.523215  , 0.52482037, 0.52647456, 0.52817281, 0.52991071,\n",
       "       0.53168424, 0.53348965, 0.53532351, 0.53718266, 0.53906419,\n",
       "       0.54096539, 0.5428838 , 0.54481713, 0.54676327, 0.54872028,\n",
       "       0.55068637, 0.55265989, 0.55463932, 0.55662325, 0.5586104 ,\n",
       "       0.56059957, 0.56258967, 0.56457968, 0.56656868, 0.56855582,\n",
       "       0.5705403 , 0.5725214 , 0.57449846, 0.57647087, 0.57843808,\n",
       "       0.58039956, 0.58235485, 0.58430352, 0.58624518, 0.58817947,\n",
       "       0.59010607, 0.59202468, 0.59393504, 0.5958369 , 0.59773005])"
      ]
     },
     "execution_count": 1064,
     "metadata": {},
     "output_type": "execute_result"
    }
   ],
   "source": [
    "(call_svijw(K = range_)/T[0])**0.5"
   ]
  },
  {
   "cell_type": "code",
   "execution_count": 1270,
   "metadata": {},
   "outputs": [
    {
     "data": {
      "application/vnd.plotly.v1+json": {
       "config": {
        "plotlyServerURL": "https://plot.ly"
       },
       "data": [
        {
         "mode": "markers",
         "name": "Market IV",
         "type": "scatter",
         "x": [
          260,
          305,
          350,
          385,
          400,
          420,
          425,
          430,
          445,
          450,
          460,
          465,
          470,
          495,
          500,
          505,
          510,
          520,
          525,
          540,
          545,
          550,
          555,
          560,
          565,
          570,
          575,
          580,
          585,
          605
         ],
         "y": [
          0.4807435799505113,
          0.4192154947603981,
          0.36409237756356,
          0.3239863029004522,
          0.3076707079470707,
          0.2868046503833232,
          0.2817045230233839,
          0.2766399827015263,
          0.2620261950340287,
          0.2571827204371774,
          0.2478530709941836,
          0.2431616684800211,
          0.2385668611018341,
          0.2161207585793849,
          0.2117723212202347,
          0.2073260274745859,
          0.202995600152878,
          0.1942541112954587,
          0.1899463123672469,
          0.1769158011401033,
          0.1725966736962837,
          0.1683541851946721,
          0.1640674802981584,
          0.1599099646388468,
          0.1558790391093609,
          0.1520309861705562,
          0.148567028673916,
          0.1453283876888815,
          0.1444370290285515,
          0.1403922451179169
         ]
        },
        {
         "mode": "lines",
         "name": "SVI IV",
         "type": "scatter",
         "x": [
          0.5,
          7.570707070707071,
          14.641414141414142,
          21.71212121212121,
          28.782828282828284,
          35.85353535353536,
          42.92424242424242,
          49.994949494949495,
          57.06565656565657,
          64.13636363636364,
          71.20707070707071,
          78.27777777777779,
          85.34848484848484,
          92.41919191919192,
          99.48989898989899,
          106.56060606060606,
          113.63131313131314,
          120.70202020202021,
          127.77272727272728,
          134.84343434343435,
          141.91414141414143,
          148.9848484848485,
          156.05555555555557,
          163.12626262626264,
          170.1969696969697,
          177.26767676767676,
          184.33838383838383,
          191.4090909090909,
          198.47979797979798,
          205.55050505050505,
          212.62121212121212,
          219.6919191919192,
          226.76262626262627,
          233.83333333333334,
          240.90404040404042,
          247.9747474747475,
          255.04545454545456,
          262.1161616161616,
          269.1868686868687,
          276.25757575757575,
          283.32828282828285,
          290.3989898989899,
          297.469696969697,
          304.54040404040404,
          311.61111111111114,
          318.6818181818182,
          325.7525252525253,
          332.82323232323233,
          339.8939393939394,
          346.9646464646465,
          354.0353535353535,
          361.1060606060606,
          368.17676767676767,
          375.24747474747477,
          382.3181818181818,
          389.3888888888889,
          396.45959595959596,
          403.53030303030306,
          410.6010101010101,
          417.6717171717172,
          424.74242424242425,
          431.81313131313135,
          438.8838383838384,
          445.9545454545455,
          453.02525252525254,
          460.0959595959596,
          467.1666666666667,
          474.23737373737373,
          481.30808080808083,
          488.3787878787879,
          495.449494949495,
          502.520202020202,
          509.5909090909091,
          516.6616161616162,
          523.7323232323232,
          530.8030303030304,
          537.8737373737374,
          544.9444444444445,
          552.0151515151515,
          559.0858585858587,
          566.1565656565657,
          573.2272727272727,
          580.2979797979798,
          587.3686868686868,
          594.439393939394,
          601.510101010101,
          608.5808080808081,
          615.6515151515151,
          622.7222222222223,
          629.7929292929293,
          636.8636363636364,
          643.9343434343434,
          651.0050505050506,
          658.0757575757576,
          665.1464646464647,
          672.2171717171717,
          679.2878787878788,
          686.3585858585859,
          693.429292929293,
          700.5
         ],
         "y": [
          1.5896446276629008,
          1.2326202684086305,
          1.1292745788555463,
          1.0628428759915285,
          1.0127044409796966,
          0.9718950837718499,
          0.9371743438293189,
          0.9067585597960919,
          0.8795563907321868,
          0.8548492950395282,
          0.8321379240906723,
          0.8110605388387964,
          0.791346302996356,
          0.7727869259266672,
          0.7552186122216425,
          0.7385101153184219,
          0.7225545683067746,
          0.7072637400973312,
          0.6925638989367454,
          0.6783927706850721,
          0.664697260778207,
          0.6514317202801516,
          0.6385566069153223,
          0.6260374376950326,
          0.6138439601006566,
          0.6019494893478208,
          0.5903303734483721,
          0.5789655577494602,
          0.567836227730739,
          0.5569255139746333,
          0.5462182469841435,
          0.5357007523084866,
          0.5253606785236845,
          0.5151868521940395,
          0.5051691551457688,
          0.4952984203118217,
          0.4855663431261462,
          0.4759654060067536,
          0.4664888139068419,
          0.4571304392594546,
          0.447884774914232,
          0.4387468938803272,
          0.42971241485937367,
          0.4207774726857067,
          0.4119386928950609,
          0.4031931697234857,
          0.3945384468999717,
          0.38597250064331345,
          0.3774937243095874,
          0.36910091416453794,
          0.3607932557782157,
          0.35257031056033417,
          0.3444320019769254,
          0.3363786010147555,
          0.32841071049228926,
          0.32052924785715714,
          0.3127354261620736,
          0.3050307329753993,
          0.2974169070596306,
          0.28989591274069376,
          0.28246991199150706,
          0.2751412343621342,
          0.2679123450020522,
          0.2607858111325677,
          0.25376426743341896,
          0.24685038090083808,
          0.24004681580869386,
          0.23335619945428726,
          0.22678108939170172,
          0.22032394284576662,
          0.21398708895821397,
          0.20777270444621637,
          0.20168279315604187,
          0.19571916987667956,
          0.18988344864692663,
          0.18417703565218335,
          0.17860112667165848,
          0.1731567089097835,
          0.16784456693311472,
          0.16266529234004806,
          0.15761929671775238,
          0.1527068273895339,
          0.14792798542553226,
          0.14328274537803223,
          0.1387709762066327,
          0.13439246287433795,
          0.13014692811937,
          0.12603405393529,
          0.12205350232034717,
          0.11820493488287738,
          0.1144880309107881,
          0.11090250352826343,
          0.10744811357126541,
          0.10412468081568474,
          0.10093209218965918,
          0.0978703065973521,
          0.09493935597931569,
          0.09213934223965263,
          0.08947042968892098,
          0.08693283269149564
         ]
        }
       ],
       "layout": {
        "height": 800,
        "template": {
         "data": {
          "bar": [
           {
            "error_x": {
             "color": "#2a3f5f"
            },
            "error_y": {
             "color": "#2a3f5f"
            },
            "marker": {
             "line": {
              "color": "#E5ECF6",
              "width": 0.5
             },
             "pattern": {
              "fillmode": "overlay",
              "size": 10,
              "solidity": 0.2
             }
            },
            "type": "bar"
           }
          ],
          "barpolar": [
           {
            "marker": {
             "line": {
              "color": "#E5ECF6",
              "width": 0.5
             },
             "pattern": {
              "fillmode": "overlay",
              "size": 10,
              "solidity": 0.2
             }
            },
            "type": "barpolar"
           }
          ],
          "carpet": [
           {
            "aaxis": {
             "endlinecolor": "#2a3f5f",
             "gridcolor": "white",
             "linecolor": "white",
             "minorgridcolor": "white",
             "startlinecolor": "#2a3f5f"
            },
            "baxis": {
             "endlinecolor": "#2a3f5f",
             "gridcolor": "white",
             "linecolor": "white",
             "minorgridcolor": "white",
             "startlinecolor": "#2a3f5f"
            },
            "type": "carpet"
           }
          ],
          "choropleth": [
           {
            "colorbar": {
             "outlinewidth": 0,
             "ticks": ""
            },
            "type": "choropleth"
           }
          ],
          "contour": [
           {
            "colorbar": {
             "outlinewidth": 0,
             "ticks": ""
            },
            "colorscale": [
             [
              0,
              "#0d0887"
             ],
             [
              0.1111111111111111,
              "#46039f"
             ],
             [
              0.2222222222222222,
              "#7201a8"
             ],
             [
              0.3333333333333333,
              "#9c179e"
             ],
             [
              0.4444444444444444,
              "#bd3786"
             ],
             [
              0.5555555555555556,
              "#d8576b"
             ],
             [
              0.6666666666666666,
              "#ed7953"
             ],
             [
              0.7777777777777778,
              "#fb9f3a"
             ],
             [
              0.8888888888888888,
              "#fdca26"
             ],
             [
              1,
              "#f0f921"
             ]
            ],
            "type": "contour"
           }
          ],
          "contourcarpet": [
           {
            "colorbar": {
             "outlinewidth": 0,
             "ticks": ""
            },
            "type": "contourcarpet"
           }
          ],
          "heatmap": [
           {
            "colorbar": {
             "outlinewidth": 0,
             "ticks": ""
            },
            "colorscale": [
             [
              0,
              "#0d0887"
             ],
             [
              0.1111111111111111,
              "#46039f"
             ],
             [
              0.2222222222222222,
              "#7201a8"
             ],
             [
              0.3333333333333333,
              "#9c179e"
             ],
             [
              0.4444444444444444,
              "#bd3786"
             ],
             [
              0.5555555555555556,
              "#d8576b"
             ],
             [
              0.6666666666666666,
              "#ed7953"
             ],
             [
              0.7777777777777778,
              "#fb9f3a"
             ],
             [
              0.8888888888888888,
              "#fdca26"
             ],
             [
              1,
              "#f0f921"
             ]
            ],
            "type": "heatmap"
           }
          ],
          "heatmapgl": [
           {
            "colorbar": {
             "outlinewidth": 0,
             "ticks": ""
            },
            "colorscale": [
             [
              0,
              "#0d0887"
             ],
             [
              0.1111111111111111,
              "#46039f"
             ],
             [
              0.2222222222222222,
              "#7201a8"
             ],
             [
              0.3333333333333333,
              "#9c179e"
             ],
             [
              0.4444444444444444,
              "#bd3786"
             ],
             [
              0.5555555555555556,
              "#d8576b"
             ],
             [
              0.6666666666666666,
              "#ed7953"
             ],
             [
              0.7777777777777778,
              "#fb9f3a"
             ],
             [
              0.8888888888888888,
              "#fdca26"
             ],
             [
              1,
              "#f0f921"
             ]
            ],
            "type": "heatmapgl"
           }
          ],
          "histogram": [
           {
            "marker": {
             "pattern": {
              "fillmode": "overlay",
              "size": 10,
              "solidity": 0.2
             }
            },
            "type": "histogram"
           }
          ],
          "histogram2d": [
           {
            "colorbar": {
             "outlinewidth": 0,
             "ticks": ""
            },
            "colorscale": [
             [
              0,
              "#0d0887"
             ],
             [
              0.1111111111111111,
              "#46039f"
             ],
             [
              0.2222222222222222,
              "#7201a8"
             ],
             [
              0.3333333333333333,
              "#9c179e"
             ],
             [
              0.4444444444444444,
              "#bd3786"
             ],
             [
              0.5555555555555556,
              "#d8576b"
             ],
             [
              0.6666666666666666,
              "#ed7953"
             ],
             [
              0.7777777777777778,
              "#fb9f3a"
             ],
             [
              0.8888888888888888,
              "#fdca26"
             ],
             [
              1,
              "#f0f921"
             ]
            ],
            "type": "histogram2d"
           }
          ],
          "histogram2dcontour": [
           {
            "colorbar": {
             "outlinewidth": 0,
             "ticks": ""
            },
            "colorscale": [
             [
              0,
              "#0d0887"
             ],
             [
              0.1111111111111111,
              "#46039f"
             ],
             [
              0.2222222222222222,
              "#7201a8"
             ],
             [
              0.3333333333333333,
              "#9c179e"
             ],
             [
              0.4444444444444444,
              "#bd3786"
             ],
             [
              0.5555555555555556,
              "#d8576b"
             ],
             [
              0.6666666666666666,
              "#ed7953"
             ],
             [
              0.7777777777777778,
              "#fb9f3a"
             ],
             [
              0.8888888888888888,
              "#fdca26"
             ],
             [
              1,
              "#f0f921"
             ]
            ],
            "type": "histogram2dcontour"
           }
          ],
          "mesh3d": [
           {
            "colorbar": {
             "outlinewidth": 0,
             "ticks": ""
            },
            "type": "mesh3d"
           }
          ],
          "parcoords": [
           {
            "line": {
             "colorbar": {
              "outlinewidth": 0,
              "ticks": ""
             }
            },
            "type": "parcoords"
           }
          ],
          "pie": [
           {
            "automargin": true,
            "type": "pie"
           }
          ],
          "scatter": [
           {
            "fillpattern": {
             "fillmode": "overlay",
             "size": 10,
             "solidity": 0.2
            },
            "type": "scatter"
           }
          ],
          "scatter3d": [
           {
            "line": {
             "colorbar": {
              "outlinewidth": 0,
              "ticks": ""
             }
            },
            "marker": {
             "colorbar": {
              "outlinewidth": 0,
              "ticks": ""
             }
            },
            "type": "scatter3d"
           }
          ],
          "scattercarpet": [
           {
            "marker": {
             "colorbar": {
              "outlinewidth": 0,
              "ticks": ""
             }
            },
            "type": "scattercarpet"
           }
          ],
          "scattergeo": [
           {
            "marker": {
             "colorbar": {
              "outlinewidth": 0,
              "ticks": ""
             }
            },
            "type": "scattergeo"
           }
          ],
          "scattergl": [
           {
            "marker": {
             "colorbar": {
              "outlinewidth": 0,
              "ticks": ""
             }
            },
            "type": "scattergl"
           }
          ],
          "scattermapbox": [
           {
            "marker": {
             "colorbar": {
              "outlinewidth": 0,
              "ticks": ""
             }
            },
            "type": "scattermapbox"
           }
          ],
          "scatterpolar": [
           {
            "marker": {
             "colorbar": {
              "outlinewidth": 0,
              "ticks": ""
             }
            },
            "type": "scatterpolar"
           }
          ],
          "scatterpolargl": [
           {
            "marker": {
             "colorbar": {
              "outlinewidth": 0,
              "ticks": ""
             }
            },
            "type": "scatterpolargl"
           }
          ],
          "scatterternary": [
           {
            "marker": {
             "colorbar": {
              "outlinewidth": 0,
              "ticks": ""
             }
            },
            "type": "scatterternary"
           }
          ],
          "surface": [
           {
            "colorbar": {
             "outlinewidth": 0,
             "ticks": ""
            },
            "colorscale": [
             [
              0,
              "#0d0887"
             ],
             [
              0.1111111111111111,
              "#46039f"
             ],
             [
              0.2222222222222222,
              "#7201a8"
             ],
             [
              0.3333333333333333,
              "#9c179e"
             ],
             [
              0.4444444444444444,
              "#bd3786"
             ],
             [
              0.5555555555555556,
              "#d8576b"
             ],
             [
              0.6666666666666666,
              "#ed7953"
             ],
             [
              0.7777777777777778,
              "#fb9f3a"
             ],
             [
              0.8888888888888888,
              "#fdca26"
             ],
             [
              1,
              "#f0f921"
             ]
            ],
            "type": "surface"
           }
          ],
          "table": [
           {
            "cells": {
             "fill": {
              "color": "#EBF0F8"
             },
             "line": {
              "color": "white"
             }
            },
            "header": {
             "fill": {
              "color": "#C8D4E3"
             },
             "line": {
              "color": "white"
             }
            },
            "type": "table"
           }
          ]
         },
         "layout": {
          "annotationdefaults": {
           "arrowcolor": "#2a3f5f",
           "arrowhead": 0,
           "arrowwidth": 1
          },
          "autotypenumbers": "strict",
          "coloraxis": {
           "colorbar": {
            "outlinewidth": 0,
            "ticks": ""
           }
          },
          "colorscale": {
           "diverging": [
            [
             0,
             "#8e0152"
            ],
            [
             0.1,
             "#c51b7d"
            ],
            [
             0.2,
             "#de77ae"
            ],
            [
             0.3,
             "#f1b6da"
            ],
            [
             0.4,
             "#fde0ef"
            ],
            [
             0.5,
             "#f7f7f7"
            ],
            [
             0.6,
             "#e6f5d0"
            ],
            [
             0.7,
             "#b8e186"
            ],
            [
             0.8,
             "#7fbc41"
            ],
            [
             0.9,
             "#4d9221"
            ],
            [
             1,
             "#276419"
            ]
           ],
           "sequential": [
            [
             0,
             "#0d0887"
            ],
            [
             0.1111111111111111,
             "#46039f"
            ],
            [
             0.2222222222222222,
             "#7201a8"
            ],
            [
             0.3333333333333333,
             "#9c179e"
            ],
            [
             0.4444444444444444,
             "#bd3786"
            ],
            [
             0.5555555555555556,
             "#d8576b"
            ],
            [
             0.6666666666666666,
             "#ed7953"
            ],
            [
             0.7777777777777778,
             "#fb9f3a"
            ],
            [
             0.8888888888888888,
             "#fdca26"
            ],
            [
             1,
             "#f0f921"
            ]
           ],
           "sequentialminus": [
            [
             0,
             "#0d0887"
            ],
            [
             0.1111111111111111,
             "#46039f"
            ],
            [
             0.2222222222222222,
             "#7201a8"
            ],
            [
             0.3333333333333333,
             "#9c179e"
            ],
            [
             0.4444444444444444,
             "#bd3786"
            ],
            [
             0.5555555555555556,
             "#d8576b"
            ],
            [
             0.6666666666666666,
             "#ed7953"
            ],
            [
             0.7777777777777778,
             "#fb9f3a"
            ],
            [
             0.8888888888888888,
             "#fdca26"
            ],
            [
             1,
             "#f0f921"
            ]
           ]
          },
          "colorway": [
           "#636efa",
           "#EF553B",
           "#00cc96",
           "#ab63fa",
           "#FFA15A",
           "#19d3f3",
           "#FF6692",
           "#B6E880",
           "#FF97FF",
           "#FECB52"
          ],
          "font": {
           "color": "#2a3f5f"
          },
          "geo": {
           "bgcolor": "white",
           "lakecolor": "white",
           "landcolor": "#E5ECF6",
           "showlakes": true,
           "showland": true,
           "subunitcolor": "white"
          },
          "hoverlabel": {
           "align": "left"
          },
          "hovermode": "closest",
          "mapbox": {
           "style": "light"
          },
          "paper_bgcolor": "white",
          "plot_bgcolor": "#E5ECF6",
          "polar": {
           "angularaxis": {
            "gridcolor": "white",
            "linecolor": "white",
            "ticks": ""
           },
           "bgcolor": "#E5ECF6",
           "radialaxis": {
            "gridcolor": "white",
            "linecolor": "white",
            "ticks": ""
           }
          },
          "scene": {
           "xaxis": {
            "backgroundcolor": "#E5ECF6",
            "gridcolor": "white",
            "gridwidth": 2,
            "linecolor": "white",
            "showbackground": true,
            "ticks": "",
            "zerolinecolor": "white"
           },
           "yaxis": {
            "backgroundcolor": "#E5ECF6",
            "gridcolor": "white",
            "gridwidth": 2,
            "linecolor": "white",
            "showbackground": true,
            "ticks": "",
            "zerolinecolor": "white"
           },
           "zaxis": {
            "backgroundcolor": "#E5ECF6",
            "gridcolor": "white",
            "gridwidth": 2,
            "linecolor": "white",
            "showbackground": true,
            "ticks": "",
            "zerolinecolor": "white"
           }
          },
          "shapedefaults": {
           "line": {
            "color": "#2a3f5f"
           }
          },
          "ternary": {
           "aaxis": {
            "gridcolor": "white",
            "linecolor": "white",
            "ticks": ""
           },
           "baxis": {
            "gridcolor": "white",
            "linecolor": "white",
            "ticks": ""
           },
           "bgcolor": "#E5ECF6",
           "caxis": {
            "gridcolor": "white",
            "linecolor": "white",
            "ticks": ""
           }
          },
          "title": {
           "x": 0.05
          },
          "xaxis": {
           "automargin": true,
           "gridcolor": "white",
           "linecolor": "white",
           "ticks": "",
           "title": {
            "standoff": 15
           },
           "zerolinecolor": "white",
           "zerolinewidth": 2
          },
          "yaxis": {
           "automargin": true,
           "gridcolor": "white",
           "linecolor": "white",
           "ticks": "",
           "title": {
            "standoff": 15
           },
           "zerolinecolor": "white",
           "zerolinewidth": 2
          }
         }
        },
        "title": {
         "text": "Market IV vs Strike Price"
        },
        "width": 800,
        "xaxis": {
         "title": {
          "text": "Strike Price"
         }
        },
        "yaxis": {
         "title": {
          "text": "Implied Volatility"
         }
        }
       }
      }
     },
     "metadata": {},
     "output_type": "display_data"
    }
   ],
   "source": [
    "range_ = np.linspace(0.5, 700.5, 100)\n",
    "new_vols = (TotalVarSVIJW(S0, range_, T[0], *new_params)/T[0])**0.5\n",
    "new_vols\n",
    "\n",
    "import plotly.graph_objects as go\n",
    "fig = go.Figure()\n",
    "\n",
    "fig.add_trace(go.Scatter(x=K, y=IV_, mode='markers', name='Market IV'))\n",
    "fig.add_trace(go.Scatter(x=range_, y=new_vols, mode='lines', name='SVI IV')) \n",
    "fig.update_layout(title='Market IV vs Strike Price', xaxis_title='Strike Price', yaxis_title='Implied Volatility', height = 800, width = 800)\n",
    "fig.show()"
   ]
  },
  {
   "cell_type": "code",
   "execution_count": 355,
   "metadata": {},
   "outputs": [
    {
     "data": {
      "text/plain": [
       "0.4974784493091173"
      ]
     },
     "execution_count": 355,
     "metadata": {},
     "output_type": "execute_result"
    }
   ],
   "source": [
    "chain.vol.min()"
   ]
  }
 ],
 "metadata": {
  "kernelspec": {
   "display_name": "openbb",
   "language": "python",
   "name": "python3"
  },
  "language_info": {
   "codemirror_mode": {
    "name": "ipython",
    "version": 3
   },
   "file_extension": ".py",
   "mimetype": "text/x-python",
   "name": "python",
   "nbconvert_exporter": "python",
   "pygments_lexer": "ipython3",
   "version": "3.11.10"
  }
 },
 "nbformat": 4,
 "nbformat_minor": 2
}
