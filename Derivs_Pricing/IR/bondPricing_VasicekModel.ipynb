{
 "cells": [
  {
   "cell_type": "code",
   "execution_count": 25,
   "metadata": {},
   "outputs": [],
   "source": [
    "import pandas as pd\n",
    "import numpy as np\n",
    "import matplotlib.pyplot as plt\n",
    "from numpy.random import normal\n",
    "NUM_OF_SIMS = 1000 #amount of simulations\n",
    "NUM_OF_POINTS = 200"
   ]
  },
  {
   "cell_type": "code",
   "execution_count": 28,
   "metadata": {},
   "outputs": [],
   "source": [
    "def monte_carlo_simulation(x, r0, kappa, theta, sigma, T = 1.0):\n",
    "    dt = T/float(NUM_OF_POINTS)\n",
    "    results = []\n",
    "\n",
    "    for _ in range(NUM_OF_SIMS):\n",
    "        rates = [r0]\n",
    "        for _ in range(NUM_OF_POINTS):\n",
    "            dr = kappa * (theta - rates[-1]) * dt + sigma * np.sqrt(dt) * normal()\n",
    "            rates.append(rates[-1] + dr)\n",
    "        results.append(rates)\n",
    "\n",
    "    simulation_data = pd.DataFrame(results).T\n",
    "    integral_sum = simulation_data.sum() * dt\n",
    "\n",
    "    # calculate present integral sum\n",
    "    present_integral_sum = np.exp(-integral_sum)\n",
    "\n",
    "    # mean of integral sum to get the avg based on monte carlo\n",
    "    bond_price = x * np.mean(present_integral_sum)\n",
    "    return bond_price\n"
   ]
  },
  {
   "cell_type": "code",
   "execution_count": 30,
   "metadata": {},
   "outputs": [
    {
     "data": {
      "text/plain": [
       "572.9553799944722"
      ]
     },
     "execution_count": 30,
     "metadata": {},
     "output_type": "execute_result"
    }
   ],
   "source": [
    "monte_carlo_simulation(1000, 0.5, 0.3, 0.9,0.03)"
   ]
  },
  {
   "cell_type": "code",
   "execution_count": 42,
   "metadata": {},
   "outputs": [
    {
     "name": "stdout",
     "output_type": "stream",
     "text": [
      "Inserting at the end - time taken: 0.016714096069335938\n",
      "Inserting at the beginning - time taken: 9.023927688598633\n"
     ]
    }
   ],
   "source": [
    "\n",
    "\n",
    "import time\n",
    "nums = []\n",
    "\n",
    "# start time in seconds - we will measure the running time of operations\n",
    "start = time.time()\n",
    "\n",
    "# let's insert 100k items at the end of the list - fast operation\n",
    "for i in range(100000):\n",
    "    nums.append(i)\n",
    "\n",
    "print('Inserting at the end - time taken: %s' % (time.time() - start))\n",
    "\n",
    "# re-initialize time\n",
    "start = time.time()\n",
    "\n",
    "# insert 100k items at the beginning of the list - index 0\n",
    "for i in range(100000):\n",
    "    nums.insert(0, i)\n",
    "\n",
    "# takes a lot of time because we have to shift the items !!!\n",
    "print('Inserting at the beginning - time taken: %s' % (time.time() - start))\n"
   ]
  },
  {
   "cell_type": "code",
   "execution_count": 59,
   "metadata": {},
   "outputs": [
    {
     "name": "stdout",
     "output_type": "stream",
     "text": [
      "True\n"
     ]
    }
   ],
   "source": [
    "\n"
   ]
  }
 ],
 "metadata": {
  "kernelspec": {
   "display_name": "Python 3.10.7 64-bit",
   "language": "python",
   "name": "python3"
  },
  "language_info": {
   "codemirror_mode": {
    "name": "ipython",
    "version": 3
   },
   "file_extension": ".py",
   "mimetype": "text/x-python",
   "name": "python",
   "nbconvert_exporter": "python",
   "pygments_lexer": "ipython3",
   "version": "3.10.7"
  },
  "orig_nbformat": 4,
  "vscode": {
   "interpreter": {
    "hash": "aee8b7b246df8f9039afb4144a1f6fd8d2ca17a180786b69acc140d282b71a49"
   }
  }
 },
 "nbformat": 4,
 "nbformat_minor": 2
}
