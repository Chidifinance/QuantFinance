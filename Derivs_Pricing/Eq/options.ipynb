{
 "cells": [
  {
   "cell_type": "code",
   "execution_count": 6,
   "metadata": {},
   "outputs": [],
   "source": [
    "from scipy import stats\n",
    "from numpy import log, exp, sqrt\n",
    "import numpy as np"
   ]
  },
  {
   "cell_type": "code",
   "execution_count": 2,
   "metadata": {},
   "outputs": [],
   "source": [
    "def call_price(S, E, T, r, sigma):\n",
    "    d1 = (log(S/E) + ((r + (0.5*sigma**2))*(T)))/(sigma * sqrt(T))\n",
    "    d2 = d1 - sigma * sqrt(T)\n",
    "    return S * stats.norm.cdf(d1) - (E * exp (-r * T)) * stats.norm.cdf(d2) \n",
    "\n",
    "\n",
    "def put_price(S, E, T, r, sigma):\n",
    "    d1 = (log(S/E) + ((r + (0.5*sigma**2))*(T)))/(sigma * sqrt(T))\n",
    "    d2 = d1 - sigma * sqrt(T)\n",
    "    return -S * stats.norm.cdf(-d1) + (E * exp(-r * T)) * stats.norm.cdf(-d2)\n"
   ]
  },
  {
   "cell_type": "code",
   "execution_count": 107,
   "metadata": {},
   "outputs": [
    {
     "name": "stdout",
     "output_type": "stream",
     "text": [
      "0.35000000000000003 0.15000000000000002\n"
     ]
    },
    {
     "data": {
      "text/plain": [
       "5.573526022256971"
      ]
     },
     "execution_count": 107,
     "metadata": {},
     "output_type": "execute_result"
    }
   ],
   "source": [
    "S = 100\n",
    "E = 100\n",
    "T = 1\n",
    "r = 0.05\n",
    "sigma = 0.2\n",
    "put_price(S,E,T,r,sigma)"
   ]
  },
  {
   "cell_type": "markdown",
   "metadata": {},
   "source": [
    "# MONTE CARLO SIMULATION"
   ]
  },
  {
   "cell_type": "code",
   "execution_count": 105,
   "metadata": {},
   "outputs": [],
   "source": [
    "class OptionPricing:\n",
    "    def __init__(self, S0, E, T, r, sigma, iterations):\n",
    "        self.S0 = S0\n",
    "        self.E = E\n",
    "        self.T = T\n",
    "        self.r = r\n",
    "        self.sigma = sigma\n",
    "        self.iterations = iterations\n",
    "\n",
    "    def call_option_simulation(self):\n",
    "        option_data = np.zeros([self.iterations, 2])\n",
    "        rand = np.random.normal(0, 1, [1, self.iterations])\n",
    "        stock_price = self.S0 * np.exp(self.T * (r- 0.5 * self.sigma ** 2) + self.sigma * sqrt(self.T) * rand)\n",
    "        option_data[: , 1] = stock_price - self.E\n",
    "        avg = np.sum(np.amax(option_data, axis = 1))/self.iterations\n",
    "        return avg * exp(-self.r * self.T)\n",
    "\n",
    "    def put_option_simulation(self):\n",
    "        option_data = np.zeros([self.iterations, 2])\n",
    "        rand = np.random.normal(0, 1, [1, self.iterations])\n",
    "        stock_price = self.S0 * \\\n",
    "            np.exp(self.T * (r - 0.5 * self.sigma ** 2) +\n",
    "                   self.sigma * sqrt(self.T) * rand)\n",
    "        option_data[:, 1] = self.E - stock_price\n",
    "        avg = np.sum(np.amax(option_data, axis=1))/self.iterations\n",
    "        return avg * exp(-self.r * self.T)\n"
   ]
  },
  {
   "cell_type": "code",
   "execution_count": 108,
   "metadata": {},
   "outputs": [
    {
     "data": {
      "text/plain": [
       "5.571686422594731"
      ]
     },
     "execution_count": 108,
     "metadata": {},
     "output_type": "execute_result"
    }
   ],
   "source": [
    "v = OptionPricing(100, 100, 1, 0.05, 0.2, 10000000)\n",
    "v.put_option_simulation()\n"
   ]
  }
 ],
 "metadata": {
  "kernelspec": {
   "display_name": "Python 3.11.4 ('chidi_trade')",
   "language": "python",
   "name": "python3"
  },
  "language_info": {
   "codemirror_mode": {
    "name": "ipython",
    "version": 3
   },
   "file_extension": ".py",
   "mimetype": "text/x-python",
   "name": "python",
   "nbconvert_exporter": "python",
   "pygments_lexer": "ipython3",
   "version": "3.11.4"
  },
  "orig_nbformat": 4,
  "vscode": {
   "interpreter": {
    "hash": "112205c3c2eace5b056370c5ead14cb6b03d7ddde843ca8e00c4874afc4e1e8b"
   }
  }
 },
 "nbformat": 4,
 "nbformat_minor": 2
}
